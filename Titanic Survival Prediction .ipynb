{
 "cells": [
  {
   "cell_type": "code",
   "execution_count": 36,
   "id": "043bdfaf",
   "metadata": {},
   "outputs": [],
   "source": [
    "import numpy as np\n",
    "import pandas as pd\n",
    "import matplotlib.pyplot as plt\n",
    "import seaborn as sns\n",
    "\n",
    "from sklearn.linear_model import LogisticRegression\n",
    "from sklearn.model_selection import train_test_split\n",
    "from sklearn.metrics import classification_report\n",
    "from sklearn.metrics import accuracy_score\n",
    "from sklearn.tree import DecisionTreeClassifier\n",
    "from sklearn.svm import SVC\n",
    "from sklearn.neural_network import MLPClassifier\n",
    "from sklearn.ensemble import RandomForestClassifier,GradientBoostingClassifier,AdaBoostClassifier\n",
    "from sklearn.ensemble import RandomForestClassifier\n",
    "from sklearn.neighbors import KNeighborsClassifier"
   ]
  },
  {
   "cell_type": "code",
   "execution_count": 2,
   "id": "a622dfc5",
   "metadata": {},
   "outputs": [],
   "source": [
    "df = pd.read_csv('tested.csv')"
   ]
  },
  {
   "cell_type": "code",
   "execution_count": 3,
   "id": "a0a4bf68",
   "metadata": {},
   "outputs": [
    {
     "data": {
      "text/html": [
       "<div>\n",
       "<style scoped>\n",
       "    .dataframe tbody tr th:only-of-type {\n",
       "        vertical-align: middle;\n",
       "    }\n",
       "\n",
       "    .dataframe tbody tr th {\n",
       "        vertical-align: top;\n",
       "    }\n",
       "\n",
       "    .dataframe thead th {\n",
       "        text-align: right;\n",
       "    }\n",
       "</style>\n",
       "<table border=\"1\" class=\"dataframe\">\n",
       "  <thead>\n",
       "    <tr style=\"text-align: right;\">\n",
       "      <th></th>\n",
       "      <th>PassengerId</th>\n",
       "      <th>Survived</th>\n",
       "      <th>Pclass</th>\n",
       "      <th>Name</th>\n",
       "      <th>Sex</th>\n",
       "      <th>Age</th>\n",
       "      <th>SibSp</th>\n",
       "      <th>Parch</th>\n",
       "      <th>Ticket</th>\n",
       "      <th>Fare</th>\n",
       "      <th>Cabin</th>\n",
       "      <th>Embarked</th>\n",
       "    </tr>\n",
       "  </thead>\n",
       "  <tbody>\n",
       "    <tr>\n",
       "      <th>0</th>\n",
       "      <td>892</td>\n",
       "      <td>0</td>\n",
       "      <td>3</td>\n",
       "      <td>Kelly, Mr. James</td>\n",
       "      <td>male</td>\n",
       "      <td>34.5</td>\n",
       "      <td>0</td>\n",
       "      <td>0</td>\n",
       "      <td>330911</td>\n",
       "      <td>7.8292</td>\n",
       "      <td>NaN</td>\n",
       "      <td>Q</td>\n",
       "    </tr>\n",
       "    <tr>\n",
       "      <th>1</th>\n",
       "      <td>893</td>\n",
       "      <td>1</td>\n",
       "      <td>3</td>\n",
       "      <td>Wilkes, Mrs. James (Ellen Needs)</td>\n",
       "      <td>female</td>\n",
       "      <td>47.0</td>\n",
       "      <td>1</td>\n",
       "      <td>0</td>\n",
       "      <td>363272</td>\n",
       "      <td>7.0000</td>\n",
       "      <td>NaN</td>\n",
       "      <td>S</td>\n",
       "    </tr>\n",
       "    <tr>\n",
       "      <th>2</th>\n",
       "      <td>894</td>\n",
       "      <td>0</td>\n",
       "      <td>2</td>\n",
       "      <td>Myles, Mr. Thomas Francis</td>\n",
       "      <td>male</td>\n",
       "      <td>62.0</td>\n",
       "      <td>0</td>\n",
       "      <td>0</td>\n",
       "      <td>240276</td>\n",
       "      <td>9.6875</td>\n",
       "      <td>NaN</td>\n",
       "      <td>Q</td>\n",
       "    </tr>\n",
       "    <tr>\n",
       "      <th>3</th>\n",
       "      <td>895</td>\n",
       "      <td>0</td>\n",
       "      <td>3</td>\n",
       "      <td>Wirz, Mr. Albert</td>\n",
       "      <td>male</td>\n",
       "      <td>27.0</td>\n",
       "      <td>0</td>\n",
       "      <td>0</td>\n",
       "      <td>315154</td>\n",
       "      <td>8.6625</td>\n",
       "      <td>NaN</td>\n",
       "      <td>S</td>\n",
       "    </tr>\n",
       "    <tr>\n",
       "      <th>4</th>\n",
       "      <td>896</td>\n",
       "      <td>1</td>\n",
       "      <td>3</td>\n",
       "      <td>Hirvonen, Mrs. Alexander (Helga E Lindqvist)</td>\n",
       "      <td>female</td>\n",
       "      <td>22.0</td>\n",
       "      <td>1</td>\n",
       "      <td>1</td>\n",
       "      <td>3101298</td>\n",
       "      <td>12.2875</td>\n",
       "      <td>NaN</td>\n",
       "      <td>S</td>\n",
       "    </tr>\n",
       "    <tr>\n",
       "      <th>...</th>\n",
       "      <td>...</td>\n",
       "      <td>...</td>\n",
       "      <td>...</td>\n",
       "      <td>...</td>\n",
       "      <td>...</td>\n",
       "      <td>...</td>\n",
       "      <td>...</td>\n",
       "      <td>...</td>\n",
       "      <td>...</td>\n",
       "      <td>...</td>\n",
       "      <td>...</td>\n",
       "      <td>...</td>\n",
       "    </tr>\n",
       "    <tr>\n",
       "      <th>413</th>\n",
       "      <td>1305</td>\n",
       "      <td>0</td>\n",
       "      <td>3</td>\n",
       "      <td>Spector, Mr. Woolf</td>\n",
       "      <td>male</td>\n",
       "      <td>NaN</td>\n",
       "      <td>0</td>\n",
       "      <td>0</td>\n",
       "      <td>A.5. 3236</td>\n",
       "      <td>8.0500</td>\n",
       "      <td>NaN</td>\n",
       "      <td>S</td>\n",
       "    </tr>\n",
       "    <tr>\n",
       "      <th>414</th>\n",
       "      <td>1306</td>\n",
       "      <td>1</td>\n",
       "      <td>1</td>\n",
       "      <td>Oliva y Ocana, Dona. Fermina</td>\n",
       "      <td>female</td>\n",
       "      <td>39.0</td>\n",
       "      <td>0</td>\n",
       "      <td>0</td>\n",
       "      <td>PC 17758</td>\n",
       "      <td>108.9000</td>\n",
       "      <td>C105</td>\n",
       "      <td>C</td>\n",
       "    </tr>\n",
       "    <tr>\n",
       "      <th>415</th>\n",
       "      <td>1307</td>\n",
       "      <td>0</td>\n",
       "      <td>3</td>\n",
       "      <td>Saether, Mr. Simon Sivertsen</td>\n",
       "      <td>male</td>\n",
       "      <td>38.5</td>\n",
       "      <td>0</td>\n",
       "      <td>0</td>\n",
       "      <td>SOTON/O.Q. 3101262</td>\n",
       "      <td>7.2500</td>\n",
       "      <td>NaN</td>\n",
       "      <td>S</td>\n",
       "    </tr>\n",
       "    <tr>\n",
       "      <th>416</th>\n",
       "      <td>1308</td>\n",
       "      <td>0</td>\n",
       "      <td>3</td>\n",
       "      <td>Ware, Mr. Frederick</td>\n",
       "      <td>male</td>\n",
       "      <td>NaN</td>\n",
       "      <td>0</td>\n",
       "      <td>0</td>\n",
       "      <td>359309</td>\n",
       "      <td>8.0500</td>\n",
       "      <td>NaN</td>\n",
       "      <td>S</td>\n",
       "    </tr>\n",
       "    <tr>\n",
       "      <th>417</th>\n",
       "      <td>1309</td>\n",
       "      <td>0</td>\n",
       "      <td>3</td>\n",
       "      <td>Peter, Master. Michael J</td>\n",
       "      <td>male</td>\n",
       "      <td>NaN</td>\n",
       "      <td>1</td>\n",
       "      <td>1</td>\n",
       "      <td>2668</td>\n",
       "      <td>22.3583</td>\n",
       "      <td>NaN</td>\n",
       "      <td>C</td>\n",
       "    </tr>\n",
       "  </tbody>\n",
       "</table>\n",
       "<p>418 rows × 12 columns</p>\n",
       "</div>"
      ],
      "text/plain": [
       "     PassengerId  Survived  Pclass  \\\n",
       "0            892         0       3   \n",
       "1            893         1       3   \n",
       "2            894         0       2   \n",
       "3            895         0       3   \n",
       "4            896         1       3   \n",
       "..           ...       ...     ...   \n",
       "413         1305         0       3   \n",
       "414         1306         1       1   \n",
       "415         1307         0       3   \n",
       "416         1308         0       3   \n",
       "417         1309         0       3   \n",
       "\n",
       "                                             Name     Sex   Age  SibSp  Parch  \\\n",
       "0                                Kelly, Mr. James    male  34.5      0      0   \n",
       "1                Wilkes, Mrs. James (Ellen Needs)  female  47.0      1      0   \n",
       "2                       Myles, Mr. Thomas Francis    male  62.0      0      0   \n",
       "3                                Wirz, Mr. Albert    male  27.0      0      0   \n",
       "4    Hirvonen, Mrs. Alexander (Helga E Lindqvist)  female  22.0      1      1   \n",
       "..                                            ...     ...   ...    ...    ...   \n",
       "413                            Spector, Mr. Woolf    male   NaN      0      0   \n",
       "414                  Oliva y Ocana, Dona. Fermina  female  39.0      0      0   \n",
       "415                  Saether, Mr. Simon Sivertsen    male  38.5      0      0   \n",
       "416                           Ware, Mr. Frederick    male   NaN      0      0   \n",
       "417                      Peter, Master. Michael J    male   NaN      1      1   \n",
       "\n",
       "                 Ticket      Fare Cabin Embarked  \n",
       "0                330911    7.8292   NaN        Q  \n",
       "1                363272    7.0000   NaN        S  \n",
       "2                240276    9.6875   NaN        Q  \n",
       "3                315154    8.6625   NaN        S  \n",
       "4               3101298   12.2875   NaN        S  \n",
       "..                  ...       ...   ...      ...  \n",
       "413           A.5. 3236    8.0500   NaN        S  \n",
       "414            PC 17758  108.9000  C105        C  \n",
       "415  SOTON/O.Q. 3101262    7.2500   NaN        S  \n",
       "416              359309    8.0500   NaN        S  \n",
       "417                2668   22.3583   NaN        C  \n",
       "\n",
       "[418 rows x 12 columns]"
      ]
     },
     "execution_count": 3,
     "metadata": {},
     "output_type": "execute_result"
    }
   ],
   "source": [
    "df"
   ]
  },
  {
   "cell_type": "markdown",
   "id": "4701e3f3",
   "metadata": {},
   "source": [
    "### Exploratory Data Analysis\n",
    "#### 0= dead , 1=alive\n",
    "#### 1=firstclass, 2=2nd class , 3= 3rd class\n",
    "#### The “Embarked”indicates the port where passengers got on board the Titanic. Here’s what each value represents:\n",
    "#### C = Cherbourg: A city in northern France.\n",
    "#### Q = Queenstown (now known as Cobh): A town in County Cork, Ireland.\n",
    "#### S = Southampton: A city on the south coast of England."
   ]
  },
  {
   "cell_type": "markdown",
   "id": "f4dc5203",
   "metadata": {},
   "source": [
    "# EXPLORATORY DATA ANALYSIS "
   ]
  },
  {
   "cell_type": "code",
   "execution_count": 4,
   "id": "1b637414",
   "metadata": {},
   "outputs": [
    {
     "name": "stdout",
     "output_type": "stream",
     "text": [
      "<class 'pandas.core.frame.DataFrame'>\n",
      "RangeIndex: 418 entries, 0 to 417\n",
      "Data columns (total 12 columns):\n",
      " #   Column       Non-Null Count  Dtype  \n",
      "---  ------       --------------  -----  \n",
      " 0   PassengerId  418 non-null    int64  \n",
      " 1   Survived     418 non-null    int64  \n",
      " 2   Pclass       418 non-null    int64  \n",
      " 3   Name         418 non-null    object \n",
      " 4   Sex          418 non-null    object \n",
      " 5   Age          332 non-null    float64\n",
      " 6   SibSp        418 non-null    int64  \n",
      " 7   Parch        418 non-null    int64  \n",
      " 8   Ticket       418 non-null    object \n",
      " 9   Fare         417 non-null    float64\n",
      " 10  Cabin        91 non-null     object \n",
      " 11  Embarked     418 non-null    object \n",
      "dtypes: float64(2), int64(5), object(5)\n",
      "memory usage: 39.3+ KB\n"
     ]
    }
   ],
   "source": [
    "df.info()"
   ]
  },
  {
   "cell_type": "code",
   "execution_count": 5,
   "id": "359c6f1a",
   "metadata": {},
   "outputs": [
    {
     "data": {
      "text/html": [
       "<style  type=\"text/css\" >\n",
       "#T_f3de4_row0_col1,#T_f3de4_row0_col2,#T_f3de4_row1_col1,#T_f3de4_row1_col2,#T_f3de4_row1_col3,#T_f3de4_row1_col5,#T_f3de4_row1_col6,#T_f3de4_row1_col7,#T_f3de4_row2_col1,#T_f3de4_row2_col2,#T_f3de4_row2_col5,#T_f3de4_row2_col6,#T_f3de4_row2_col7,#T_f3de4_row3_col1,#T_f3de4_row3_col2,#T_f3de4_row4_col1,#T_f3de4_row4_col2,#T_f3de4_row4_col3,#T_f3de4_row5_col5,#T_f3de4_row6_col1,#T_f3de4_row6_col2,#T_f3de4_row6_col5,#T_f3de4_row6_col7,#T_f3de4_row7_col1,#T_f3de4_row7_col2,#T_f3de4_row7_col5,#T_f3de4_row7_col7,#T_f3de4_row8_col1,#T_f3de4_row8_col2,#T_f3de4_row9_col5,#T_f3de4_row10_col4,#T_f3de4_row11_col1,#T_f3de4_row11_col2{\n",
       "            background-color:  #2f1436;\n",
       "            color:  #f1f1f1;\n",
       "        }#T_f3de4_row0_col3,#T_f3de4_row0_col4,#T_f3de4_row0_col5,#T_f3de4_row0_col6,#T_f3de4_row0_col7,#T_f3de4_row1_col4,#T_f3de4_row2_col3,#T_f3de4_row2_col4,#T_f3de4_row3_col3,#T_f3de4_row3_col4,#T_f3de4_row4_col4,#T_f3de4_row6_col4,#T_f3de4_row7_col4,#T_f3de4_row8_col4,#T_f3de4_row9_col1,#T_f3de4_row9_col2,#T_f3de4_row10_col1,#T_f3de4_row10_col2,#T_f3de4_row11_col3,#T_f3de4_row11_col4{\n",
       "            background-color:  #301437;\n",
       "            color:  #f1f1f1;\n",
       "        }#T_f3de4_row3_col5,#T_f3de4_row3_col6,#T_f3de4_row3_col7,#T_f3de4_row4_col5,#T_f3de4_row4_col6,#T_f3de4_row4_col7,#T_f3de4_row8_col5,#T_f3de4_row8_col6,#T_f3de4_row8_col7,#T_f3de4_row10_col5,#T_f3de4_row10_col6,#T_f3de4_row10_col7,#T_f3de4_row11_col5,#T_f3de4_row11_col6,#T_f3de4_row11_col7{\n",
       "            background-color:  #000000;\n",
       "            color:  #f1f1f1;\n",
       "        }#T_f3de4_row5_col1,#T_f3de4_row5_col2{\n",
       "            background-color:  #b65e54;\n",
       "            color:  #000000;\n",
       "        }#T_f3de4_row5_col3{\n",
       "            background-color:  #973450;\n",
       "            color:  #f1f1f1;\n",
       "        }#T_f3de4_row5_col4{\n",
       "            background-color:  #647dbc;\n",
       "            color:  #000000;\n",
       "        }#T_f3de4_row5_col6{\n",
       "            background-color:  #481341;\n",
       "            color:  #f1f1f1;\n",
       "        }#T_f3de4_row5_col7{\n",
       "            background-color:  #381139;\n",
       "            color:  #f1f1f1;\n",
       "        }#T_f3de4_row6_col3{\n",
       "            background-color:  #331237;\n",
       "            color:  #f1f1f1;\n",
       "        }#T_f3de4_row6_col6,#T_f3de4_row7_col6{\n",
       "            background-color:  #311337;\n",
       "            color:  #f1f1f1;\n",
       "        }#T_f3de4_row7_col3{\n",
       "            background-color:  #341238;\n",
       "            color:  #f1f1f1;\n",
       "        }#T_f3de4_row8_col3{\n",
       "            background-color:  #5b2f94;\n",
       "            color:  #f1f1f1;\n",
       "        }#T_f3de4_row9_col3{\n",
       "            background-color:  #d0b39e;\n",
       "            color:  #000000;\n",
       "        }#T_f3de4_row9_col4{\n",
       "            background-color:  #301338;\n",
       "            color:  #f1f1f1;\n",
       "        }#T_f3de4_row9_col6{\n",
       "            background-color:  #cfad96;\n",
       "            color:  #000000;\n",
       "        }#T_f3de4_row9_col7{\n",
       "            background-color:  #3a113a;\n",
       "            color:  #f1f1f1;\n",
       "        }#T_f3de4_row10_col3{\n",
       "            background-color:  #933050;\n",
       "            color:  #f1f1f1;\n",
       "        }</style><table id=\"T_f3de4_\" ><thead>    <tr>        <th class=\"blank level0\" ></th>        <th class=\"col_heading level0 col0\" >dtypes</th>        <th class=\"col_heading level0 col1\" >missing#</th>        <th class=\"col_heading level0 col2\" >missing%</th>        <th class=\"col_heading level0 col3\" >uniques</th>        <th class=\"col_heading level0 col4\" >count</th>        <th class=\"col_heading level0 col5\" >min</th>        <th class=\"col_heading level0 col6\" >max</th>        <th class=\"col_heading level0 col7\" >mean</th>    </tr></thead><tbody>\n",
       "                <tr>\n",
       "                        <th id=\"T_f3de4_level0_row0\" class=\"row_heading level0 row0\" >PassengerId</th>\n",
       "                        <td id=\"T_f3de4_row0_col0\" class=\"data row0 col0\" >int64</td>\n",
       "                        <td id=\"T_f3de4_row0_col1\" class=\"data row0 col1\" >0</td>\n",
       "                        <td id=\"T_f3de4_row0_col2\" class=\"data row0 col2\" >0.000000</td>\n",
       "                        <td id=\"T_f3de4_row0_col3\" class=\"data row0 col3\" >418</td>\n",
       "                        <td id=\"T_f3de4_row0_col4\" class=\"data row0 col4\" >418</td>\n",
       "                        <td id=\"T_f3de4_row0_col5\" class=\"data row0 col5\" >892.000000</td>\n",
       "                        <td id=\"T_f3de4_row0_col6\" class=\"data row0 col6\" >1309.000000</td>\n",
       "                        <td id=\"T_f3de4_row0_col7\" class=\"data row0 col7\" >1100.500000</td>\n",
       "            </tr>\n",
       "            <tr>\n",
       "                        <th id=\"T_f3de4_level0_row1\" class=\"row_heading level0 row1\" >Survived</th>\n",
       "                        <td id=\"T_f3de4_row1_col0\" class=\"data row1 col0\" >int64</td>\n",
       "                        <td id=\"T_f3de4_row1_col1\" class=\"data row1 col1\" >0</td>\n",
       "                        <td id=\"T_f3de4_row1_col2\" class=\"data row1 col2\" >0.000000</td>\n",
       "                        <td id=\"T_f3de4_row1_col3\" class=\"data row1 col3\" >2</td>\n",
       "                        <td id=\"T_f3de4_row1_col4\" class=\"data row1 col4\" >418</td>\n",
       "                        <td id=\"T_f3de4_row1_col5\" class=\"data row1 col5\" >0.000000</td>\n",
       "                        <td id=\"T_f3de4_row1_col6\" class=\"data row1 col6\" >1.000000</td>\n",
       "                        <td id=\"T_f3de4_row1_col7\" class=\"data row1 col7\" >0.363636</td>\n",
       "            </tr>\n",
       "            <tr>\n",
       "                        <th id=\"T_f3de4_level0_row2\" class=\"row_heading level0 row2\" >Pclass</th>\n",
       "                        <td id=\"T_f3de4_row2_col0\" class=\"data row2 col0\" >int64</td>\n",
       "                        <td id=\"T_f3de4_row2_col1\" class=\"data row2 col1\" >0</td>\n",
       "                        <td id=\"T_f3de4_row2_col2\" class=\"data row2 col2\" >0.000000</td>\n",
       "                        <td id=\"T_f3de4_row2_col3\" class=\"data row2 col3\" >3</td>\n",
       "                        <td id=\"T_f3de4_row2_col4\" class=\"data row2 col4\" >418</td>\n",
       "                        <td id=\"T_f3de4_row2_col5\" class=\"data row2 col5\" >1.000000</td>\n",
       "                        <td id=\"T_f3de4_row2_col6\" class=\"data row2 col6\" >3.000000</td>\n",
       "                        <td id=\"T_f3de4_row2_col7\" class=\"data row2 col7\" >2.265550</td>\n",
       "            </tr>\n",
       "            <tr>\n",
       "                        <th id=\"T_f3de4_level0_row3\" class=\"row_heading level0 row3\" >Name</th>\n",
       "                        <td id=\"T_f3de4_row3_col0\" class=\"data row3 col0\" >object</td>\n",
       "                        <td id=\"T_f3de4_row3_col1\" class=\"data row3 col1\" >0</td>\n",
       "                        <td id=\"T_f3de4_row3_col2\" class=\"data row3 col2\" >0.000000</td>\n",
       "                        <td id=\"T_f3de4_row3_col3\" class=\"data row3 col3\" >418</td>\n",
       "                        <td id=\"T_f3de4_row3_col4\" class=\"data row3 col4\" >418</td>\n",
       "                        <td id=\"T_f3de4_row3_col5\" class=\"data row3 col5\" >nan</td>\n",
       "                        <td id=\"T_f3de4_row3_col6\" class=\"data row3 col6\" >nan</td>\n",
       "                        <td id=\"T_f3de4_row3_col7\" class=\"data row3 col7\" >nan</td>\n",
       "            </tr>\n",
       "            <tr>\n",
       "                        <th id=\"T_f3de4_level0_row4\" class=\"row_heading level0 row4\" >Sex</th>\n",
       "                        <td id=\"T_f3de4_row4_col0\" class=\"data row4 col0\" >object</td>\n",
       "                        <td id=\"T_f3de4_row4_col1\" class=\"data row4 col1\" >0</td>\n",
       "                        <td id=\"T_f3de4_row4_col2\" class=\"data row4 col2\" >0.000000</td>\n",
       "                        <td id=\"T_f3de4_row4_col3\" class=\"data row4 col3\" >2</td>\n",
       "                        <td id=\"T_f3de4_row4_col4\" class=\"data row4 col4\" >418</td>\n",
       "                        <td id=\"T_f3de4_row4_col5\" class=\"data row4 col5\" >nan</td>\n",
       "                        <td id=\"T_f3de4_row4_col6\" class=\"data row4 col6\" >nan</td>\n",
       "                        <td id=\"T_f3de4_row4_col7\" class=\"data row4 col7\" >nan</td>\n",
       "            </tr>\n",
       "            <tr>\n",
       "                        <th id=\"T_f3de4_level0_row5\" class=\"row_heading level0 row5\" >Age</th>\n",
       "                        <td id=\"T_f3de4_row5_col0\" class=\"data row5 col0\" >float64</td>\n",
       "                        <td id=\"T_f3de4_row5_col1\" class=\"data row5 col1\" >86</td>\n",
       "                        <td id=\"T_f3de4_row5_col2\" class=\"data row5 col2\" >20.574163</td>\n",
       "                        <td id=\"T_f3de4_row5_col3\" class=\"data row5 col3\" >79</td>\n",
       "                        <td id=\"T_f3de4_row5_col4\" class=\"data row5 col4\" >332</td>\n",
       "                        <td id=\"T_f3de4_row5_col5\" class=\"data row5 col5\" >0.170000</td>\n",
       "                        <td id=\"T_f3de4_row5_col6\" class=\"data row5 col6\" >76.000000</td>\n",
       "                        <td id=\"T_f3de4_row5_col7\" class=\"data row5 col7\" >30.272590</td>\n",
       "            </tr>\n",
       "            <tr>\n",
       "                        <th id=\"T_f3de4_level0_row6\" class=\"row_heading level0 row6\" >SibSp</th>\n",
       "                        <td id=\"T_f3de4_row6_col0\" class=\"data row6 col0\" >int64</td>\n",
       "                        <td id=\"T_f3de4_row6_col1\" class=\"data row6 col1\" >0</td>\n",
       "                        <td id=\"T_f3de4_row6_col2\" class=\"data row6 col2\" >0.000000</td>\n",
       "                        <td id=\"T_f3de4_row6_col3\" class=\"data row6 col3\" >7</td>\n",
       "                        <td id=\"T_f3de4_row6_col4\" class=\"data row6 col4\" >418</td>\n",
       "                        <td id=\"T_f3de4_row6_col5\" class=\"data row6 col5\" >0.000000</td>\n",
       "                        <td id=\"T_f3de4_row6_col6\" class=\"data row6 col6\" >8.000000</td>\n",
       "                        <td id=\"T_f3de4_row6_col7\" class=\"data row6 col7\" >0.447368</td>\n",
       "            </tr>\n",
       "            <tr>\n",
       "                        <th id=\"T_f3de4_level0_row7\" class=\"row_heading level0 row7\" >Parch</th>\n",
       "                        <td id=\"T_f3de4_row7_col0\" class=\"data row7 col0\" >int64</td>\n",
       "                        <td id=\"T_f3de4_row7_col1\" class=\"data row7 col1\" >0</td>\n",
       "                        <td id=\"T_f3de4_row7_col2\" class=\"data row7 col2\" >0.000000</td>\n",
       "                        <td id=\"T_f3de4_row7_col3\" class=\"data row7 col3\" >8</td>\n",
       "                        <td id=\"T_f3de4_row7_col4\" class=\"data row7 col4\" >418</td>\n",
       "                        <td id=\"T_f3de4_row7_col5\" class=\"data row7 col5\" >0.000000</td>\n",
       "                        <td id=\"T_f3de4_row7_col6\" class=\"data row7 col6\" >9.000000</td>\n",
       "                        <td id=\"T_f3de4_row7_col7\" class=\"data row7 col7\" >0.392344</td>\n",
       "            </tr>\n",
       "            <tr>\n",
       "                        <th id=\"T_f3de4_level0_row8\" class=\"row_heading level0 row8\" >Ticket</th>\n",
       "                        <td id=\"T_f3de4_row8_col0\" class=\"data row8 col0\" >object</td>\n",
       "                        <td id=\"T_f3de4_row8_col1\" class=\"data row8 col1\" >0</td>\n",
       "                        <td id=\"T_f3de4_row8_col2\" class=\"data row8 col2\" >0.000000</td>\n",
       "                        <td id=\"T_f3de4_row8_col3\" class=\"data row8 col3\" >363</td>\n",
       "                        <td id=\"T_f3de4_row8_col4\" class=\"data row8 col4\" >418</td>\n",
       "                        <td id=\"T_f3de4_row8_col5\" class=\"data row8 col5\" >nan</td>\n",
       "                        <td id=\"T_f3de4_row8_col6\" class=\"data row8 col6\" >nan</td>\n",
       "                        <td id=\"T_f3de4_row8_col7\" class=\"data row8 col7\" >nan</td>\n",
       "            </tr>\n",
       "            <tr>\n",
       "                        <th id=\"T_f3de4_level0_row9\" class=\"row_heading level0 row9\" >Fare</th>\n",
       "                        <td id=\"T_f3de4_row9_col0\" class=\"data row9 col0\" >float64</td>\n",
       "                        <td id=\"T_f3de4_row9_col1\" class=\"data row9 col1\" >1</td>\n",
       "                        <td id=\"T_f3de4_row9_col2\" class=\"data row9 col2\" >0.239234</td>\n",
       "                        <td id=\"T_f3de4_row9_col3\" class=\"data row9 col3\" >169</td>\n",
       "                        <td id=\"T_f3de4_row9_col4\" class=\"data row9 col4\" >417</td>\n",
       "                        <td id=\"T_f3de4_row9_col5\" class=\"data row9 col5\" >0.000000</td>\n",
       "                        <td id=\"T_f3de4_row9_col6\" class=\"data row9 col6\" >512.329200</td>\n",
       "                        <td id=\"T_f3de4_row9_col7\" class=\"data row9 col7\" >35.627188</td>\n",
       "            </tr>\n",
       "            <tr>\n",
       "                        <th id=\"T_f3de4_level0_row10\" class=\"row_heading level0 row10\" >Cabin</th>\n",
       "                        <td id=\"T_f3de4_row10_col0\" class=\"data row10 col0\" >object</td>\n",
       "                        <td id=\"T_f3de4_row10_col1\" class=\"data row10 col1\" >327</td>\n",
       "                        <td id=\"T_f3de4_row10_col2\" class=\"data row10 col2\" >78.229665</td>\n",
       "                        <td id=\"T_f3de4_row10_col3\" class=\"data row10 col3\" >76</td>\n",
       "                        <td id=\"T_f3de4_row10_col4\" class=\"data row10 col4\" >91</td>\n",
       "                        <td id=\"T_f3de4_row10_col5\" class=\"data row10 col5\" >nan</td>\n",
       "                        <td id=\"T_f3de4_row10_col6\" class=\"data row10 col6\" >nan</td>\n",
       "                        <td id=\"T_f3de4_row10_col7\" class=\"data row10 col7\" >nan</td>\n",
       "            </tr>\n",
       "            <tr>\n",
       "                        <th id=\"T_f3de4_level0_row11\" class=\"row_heading level0 row11\" >Embarked</th>\n",
       "                        <td id=\"T_f3de4_row11_col0\" class=\"data row11 col0\" >object</td>\n",
       "                        <td id=\"T_f3de4_row11_col1\" class=\"data row11 col1\" >0</td>\n",
       "                        <td id=\"T_f3de4_row11_col2\" class=\"data row11 col2\" >0.000000</td>\n",
       "                        <td id=\"T_f3de4_row11_col3\" class=\"data row11 col3\" >3</td>\n",
       "                        <td id=\"T_f3de4_row11_col4\" class=\"data row11 col4\" >418</td>\n",
       "                        <td id=\"T_f3de4_row11_col5\" class=\"data row11 col5\" >nan</td>\n",
       "                        <td id=\"T_f3de4_row11_col6\" class=\"data row11 col6\" >nan</td>\n",
       "                        <td id=\"T_f3de4_row11_col7\" class=\"data row11 col7\" >nan</td>\n",
       "            </tr>\n",
       "    </tbody></table>"
      ],
      "text/plain": [
       "<pandas.io.formats.style.Styler at 0x24b897dfcd0>"
      ]
     },
     "execution_count": 5,
     "metadata": {},
     "output_type": "execute_result"
    }
   ],
   "source": [
    "def summary(df):\n",
    "    sum = pd.DataFrame(df.dtypes, columns=['dtypes'])\n",
    "    sum['missing#'] = df.isna().sum().values\n",
    "    sum['missing%'] = (df.isna().sum().values*100)/len(df)\n",
    "    sum['uniques'] = df.nunique().values\n",
    "    sum['count'] = df.count().values\n",
    "    #sum['skew'] = df.skew().values\n",
    "    desc = pd.DataFrame(df.describe().T)\n",
    "    sum['min'] = desc['min']\n",
    "    sum['max'] = desc['max']\n",
    "    sum['mean'] = desc['mean']\n",
    "    return sum\n",
    "\n",
    "summary(df).style.background_gradient(cmap='twilight_shifted_r')"
   ]
  },
  {
   "cell_type": "code",
   "execution_count": 6,
   "id": "8c949ad4",
   "metadata": {},
   "outputs": [
    {
     "data": {
      "text/plain": [
       "(418, 12)"
      ]
     },
     "execution_count": 6,
     "metadata": {},
     "output_type": "execute_result"
    }
   ],
   "source": [
    "df.shape"
   ]
  },
  {
   "cell_type": "markdown",
   "id": "a614f167",
   "metadata": {},
   "source": [
    "#### We drop the cabin values since it has a lot of null values"
   ]
  },
  {
   "cell_type": "code",
   "execution_count": 7,
   "id": "748da877",
   "metadata": {},
   "outputs": [],
   "source": [
    "df.drop(columns=['Cabin'], inplace=True)"
   ]
  },
  {
   "cell_type": "code",
   "execution_count": 8,
   "id": "f663b202",
   "metadata": {},
   "outputs": [
    {
     "data": {
      "text/html": [
       "<style  type=\"text/css\" >\n",
       "#T_26319_row0_col1,#T_26319_row0_col2,#T_26319_row1_col1,#T_26319_row1_col2,#T_26319_row1_col3,#T_26319_row1_col5,#T_26319_row1_col6,#T_26319_row1_col7,#T_26319_row2_col1,#T_26319_row2_col2,#T_26319_row2_col5,#T_26319_row2_col6,#T_26319_row2_col7,#T_26319_row3_col1,#T_26319_row3_col2,#T_26319_row4_col1,#T_26319_row4_col2,#T_26319_row4_col3,#T_26319_row5_col4,#T_26319_row5_col5,#T_26319_row6_col1,#T_26319_row6_col2,#T_26319_row6_col5,#T_26319_row6_col7,#T_26319_row7_col1,#T_26319_row7_col2,#T_26319_row7_col5,#T_26319_row7_col7,#T_26319_row8_col1,#T_26319_row8_col2,#T_26319_row9_col5,#T_26319_row10_col1,#T_26319_row10_col2{\n",
       "            background-color:  #2f1436;\n",
       "            color:  #f1f1f1;\n",
       "        }#T_26319_row0_col3,#T_26319_row0_col4,#T_26319_row0_col5,#T_26319_row0_col6,#T_26319_row0_col7,#T_26319_row1_col4,#T_26319_row2_col3,#T_26319_row2_col4,#T_26319_row3_col3,#T_26319_row3_col4,#T_26319_row4_col4,#T_26319_row5_col1,#T_26319_row5_col2,#T_26319_row6_col4,#T_26319_row7_col4,#T_26319_row8_col4,#T_26319_row10_col3,#T_26319_row10_col4{\n",
       "            background-color:  #301437;\n",
       "            color:  #f1f1f1;\n",
       "        }#T_26319_row3_col5,#T_26319_row3_col6,#T_26319_row3_col7,#T_26319_row4_col5,#T_26319_row4_col6,#T_26319_row4_col7,#T_26319_row8_col5,#T_26319_row8_col6,#T_26319_row8_col7,#T_26319_row10_col5,#T_26319_row10_col6,#T_26319_row10_col7{\n",
       "            background-color:  #000000;\n",
       "            color:  #f1f1f1;\n",
       "        }#T_26319_row5_col3{\n",
       "            background-color:  #973450;\n",
       "            color:  #f1f1f1;\n",
       "        }#T_26319_row5_col6{\n",
       "            background-color:  #481341;\n",
       "            color:  #f1f1f1;\n",
       "        }#T_26319_row5_col7{\n",
       "            background-color:  #381139;\n",
       "            color:  #f1f1f1;\n",
       "        }#T_26319_row6_col3,#T_26319_row9_col1,#T_26319_row9_col2{\n",
       "            background-color:  #331237;\n",
       "            color:  #f1f1f1;\n",
       "        }#T_26319_row6_col6,#T_26319_row7_col6{\n",
       "            background-color:  #311337;\n",
       "            color:  #f1f1f1;\n",
       "        }#T_26319_row7_col3{\n",
       "            background-color:  #341238;\n",
       "            color:  #f1f1f1;\n",
       "        }#T_26319_row8_col3{\n",
       "            background-color:  #5b2f94;\n",
       "            color:  #f1f1f1;\n",
       "        }#T_26319_row9_col3{\n",
       "            background-color:  #d0b39e;\n",
       "            color:  #000000;\n",
       "        }#T_26319_row9_col4{\n",
       "            background-color:  #32123b;\n",
       "            color:  #f1f1f1;\n",
       "        }#T_26319_row9_col6{\n",
       "            background-color:  #cfad96;\n",
       "            color:  #000000;\n",
       "        }#T_26319_row9_col7{\n",
       "            background-color:  #3a113a;\n",
       "            color:  #f1f1f1;\n",
       "        }</style><table id=\"T_26319_\" ><thead>    <tr>        <th class=\"blank level0\" ></th>        <th class=\"col_heading level0 col0\" >dtypes</th>        <th class=\"col_heading level0 col1\" >missing#</th>        <th class=\"col_heading level0 col2\" >missing%</th>        <th class=\"col_heading level0 col3\" >uniques</th>        <th class=\"col_heading level0 col4\" >count</th>        <th class=\"col_heading level0 col5\" >min</th>        <th class=\"col_heading level0 col6\" >max</th>        <th class=\"col_heading level0 col7\" >mean</th>    </tr></thead><tbody>\n",
       "                <tr>\n",
       "                        <th id=\"T_26319_level0_row0\" class=\"row_heading level0 row0\" >PassengerId</th>\n",
       "                        <td id=\"T_26319_row0_col0\" class=\"data row0 col0\" >int64</td>\n",
       "                        <td id=\"T_26319_row0_col1\" class=\"data row0 col1\" >0</td>\n",
       "                        <td id=\"T_26319_row0_col2\" class=\"data row0 col2\" >0.000000</td>\n",
       "                        <td id=\"T_26319_row0_col3\" class=\"data row0 col3\" >418</td>\n",
       "                        <td id=\"T_26319_row0_col4\" class=\"data row0 col4\" >418</td>\n",
       "                        <td id=\"T_26319_row0_col5\" class=\"data row0 col5\" >892.000000</td>\n",
       "                        <td id=\"T_26319_row0_col6\" class=\"data row0 col6\" >1309.000000</td>\n",
       "                        <td id=\"T_26319_row0_col7\" class=\"data row0 col7\" >1100.500000</td>\n",
       "            </tr>\n",
       "            <tr>\n",
       "                        <th id=\"T_26319_level0_row1\" class=\"row_heading level0 row1\" >Survived</th>\n",
       "                        <td id=\"T_26319_row1_col0\" class=\"data row1 col0\" >int64</td>\n",
       "                        <td id=\"T_26319_row1_col1\" class=\"data row1 col1\" >0</td>\n",
       "                        <td id=\"T_26319_row1_col2\" class=\"data row1 col2\" >0.000000</td>\n",
       "                        <td id=\"T_26319_row1_col3\" class=\"data row1 col3\" >2</td>\n",
       "                        <td id=\"T_26319_row1_col4\" class=\"data row1 col4\" >418</td>\n",
       "                        <td id=\"T_26319_row1_col5\" class=\"data row1 col5\" >0.000000</td>\n",
       "                        <td id=\"T_26319_row1_col6\" class=\"data row1 col6\" >1.000000</td>\n",
       "                        <td id=\"T_26319_row1_col7\" class=\"data row1 col7\" >0.363636</td>\n",
       "            </tr>\n",
       "            <tr>\n",
       "                        <th id=\"T_26319_level0_row2\" class=\"row_heading level0 row2\" >Pclass</th>\n",
       "                        <td id=\"T_26319_row2_col0\" class=\"data row2 col0\" >int64</td>\n",
       "                        <td id=\"T_26319_row2_col1\" class=\"data row2 col1\" >0</td>\n",
       "                        <td id=\"T_26319_row2_col2\" class=\"data row2 col2\" >0.000000</td>\n",
       "                        <td id=\"T_26319_row2_col3\" class=\"data row2 col3\" >3</td>\n",
       "                        <td id=\"T_26319_row2_col4\" class=\"data row2 col4\" >418</td>\n",
       "                        <td id=\"T_26319_row2_col5\" class=\"data row2 col5\" >1.000000</td>\n",
       "                        <td id=\"T_26319_row2_col6\" class=\"data row2 col6\" >3.000000</td>\n",
       "                        <td id=\"T_26319_row2_col7\" class=\"data row2 col7\" >2.265550</td>\n",
       "            </tr>\n",
       "            <tr>\n",
       "                        <th id=\"T_26319_level0_row3\" class=\"row_heading level0 row3\" >Name</th>\n",
       "                        <td id=\"T_26319_row3_col0\" class=\"data row3 col0\" >object</td>\n",
       "                        <td id=\"T_26319_row3_col1\" class=\"data row3 col1\" >0</td>\n",
       "                        <td id=\"T_26319_row3_col2\" class=\"data row3 col2\" >0.000000</td>\n",
       "                        <td id=\"T_26319_row3_col3\" class=\"data row3 col3\" >418</td>\n",
       "                        <td id=\"T_26319_row3_col4\" class=\"data row3 col4\" >418</td>\n",
       "                        <td id=\"T_26319_row3_col5\" class=\"data row3 col5\" >nan</td>\n",
       "                        <td id=\"T_26319_row3_col6\" class=\"data row3 col6\" >nan</td>\n",
       "                        <td id=\"T_26319_row3_col7\" class=\"data row3 col7\" >nan</td>\n",
       "            </tr>\n",
       "            <tr>\n",
       "                        <th id=\"T_26319_level0_row4\" class=\"row_heading level0 row4\" >Sex</th>\n",
       "                        <td id=\"T_26319_row4_col0\" class=\"data row4 col0\" >object</td>\n",
       "                        <td id=\"T_26319_row4_col1\" class=\"data row4 col1\" >0</td>\n",
       "                        <td id=\"T_26319_row4_col2\" class=\"data row4 col2\" >0.000000</td>\n",
       "                        <td id=\"T_26319_row4_col3\" class=\"data row4 col3\" >2</td>\n",
       "                        <td id=\"T_26319_row4_col4\" class=\"data row4 col4\" >418</td>\n",
       "                        <td id=\"T_26319_row4_col5\" class=\"data row4 col5\" >nan</td>\n",
       "                        <td id=\"T_26319_row4_col6\" class=\"data row4 col6\" >nan</td>\n",
       "                        <td id=\"T_26319_row4_col7\" class=\"data row4 col7\" >nan</td>\n",
       "            </tr>\n",
       "            <tr>\n",
       "                        <th id=\"T_26319_level0_row5\" class=\"row_heading level0 row5\" >Age</th>\n",
       "                        <td id=\"T_26319_row5_col0\" class=\"data row5 col0\" >float64</td>\n",
       "                        <td id=\"T_26319_row5_col1\" class=\"data row5 col1\" >86</td>\n",
       "                        <td id=\"T_26319_row5_col2\" class=\"data row5 col2\" >20.574163</td>\n",
       "                        <td id=\"T_26319_row5_col3\" class=\"data row5 col3\" >79</td>\n",
       "                        <td id=\"T_26319_row5_col4\" class=\"data row5 col4\" >332</td>\n",
       "                        <td id=\"T_26319_row5_col5\" class=\"data row5 col5\" >0.170000</td>\n",
       "                        <td id=\"T_26319_row5_col6\" class=\"data row5 col6\" >76.000000</td>\n",
       "                        <td id=\"T_26319_row5_col7\" class=\"data row5 col7\" >30.272590</td>\n",
       "            </tr>\n",
       "            <tr>\n",
       "                        <th id=\"T_26319_level0_row6\" class=\"row_heading level0 row6\" >SibSp</th>\n",
       "                        <td id=\"T_26319_row6_col0\" class=\"data row6 col0\" >int64</td>\n",
       "                        <td id=\"T_26319_row6_col1\" class=\"data row6 col1\" >0</td>\n",
       "                        <td id=\"T_26319_row6_col2\" class=\"data row6 col2\" >0.000000</td>\n",
       "                        <td id=\"T_26319_row6_col3\" class=\"data row6 col3\" >7</td>\n",
       "                        <td id=\"T_26319_row6_col4\" class=\"data row6 col4\" >418</td>\n",
       "                        <td id=\"T_26319_row6_col5\" class=\"data row6 col5\" >0.000000</td>\n",
       "                        <td id=\"T_26319_row6_col6\" class=\"data row6 col6\" >8.000000</td>\n",
       "                        <td id=\"T_26319_row6_col7\" class=\"data row6 col7\" >0.447368</td>\n",
       "            </tr>\n",
       "            <tr>\n",
       "                        <th id=\"T_26319_level0_row7\" class=\"row_heading level0 row7\" >Parch</th>\n",
       "                        <td id=\"T_26319_row7_col0\" class=\"data row7 col0\" >int64</td>\n",
       "                        <td id=\"T_26319_row7_col1\" class=\"data row7 col1\" >0</td>\n",
       "                        <td id=\"T_26319_row7_col2\" class=\"data row7 col2\" >0.000000</td>\n",
       "                        <td id=\"T_26319_row7_col3\" class=\"data row7 col3\" >8</td>\n",
       "                        <td id=\"T_26319_row7_col4\" class=\"data row7 col4\" >418</td>\n",
       "                        <td id=\"T_26319_row7_col5\" class=\"data row7 col5\" >0.000000</td>\n",
       "                        <td id=\"T_26319_row7_col6\" class=\"data row7 col6\" >9.000000</td>\n",
       "                        <td id=\"T_26319_row7_col7\" class=\"data row7 col7\" >0.392344</td>\n",
       "            </tr>\n",
       "            <tr>\n",
       "                        <th id=\"T_26319_level0_row8\" class=\"row_heading level0 row8\" >Ticket</th>\n",
       "                        <td id=\"T_26319_row8_col0\" class=\"data row8 col0\" >object</td>\n",
       "                        <td id=\"T_26319_row8_col1\" class=\"data row8 col1\" >0</td>\n",
       "                        <td id=\"T_26319_row8_col2\" class=\"data row8 col2\" >0.000000</td>\n",
       "                        <td id=\"T_26319_row8_col3\" class=\"data row8 col3\" >363</td>\n",
       "                        <td id=\"T_26319_row8_col4\" class=\"data row8 col4\" >418</td>\n",
       "                        <td id=\"T_26319_row8_col5\" class=\"data row8 col5\" >nan</td>\n",
       "                        <td id=\"T_26319_row8_col6\" class=\"data row8 col6\" >nan</td>\n",
       "                        <td id=\"T_26319_row8_col7\" class=\"data row8 col7\" >nan</td>\n",
       "            </tr>\n",
       "            <tr>\n",
       "                        <th id=\"T_26319_level0_row9\" class=\"row_heading level0 row9\" >Fare</th>\n",
       "                        <td id=\"T_26319_row9_col0\" class=\"data row9 col0\" >float64</td>\n",
       "                        <td id=\"T_26319_row9_col1\" class=\"data row9 col1\" >1</td>\n",
       "                        <td id=\"T_26319_row9_col2\" class=\"data row9 col2\" >0.239234</td>\n",
       "                        <td id=\"T_26319_row9_col3\" class=\"data row9 col3\" >169</td>\n",
       "                        <td id=\"T_26319_row9_col4\" class=\"data row9 col4\" >417</td>\n",
       "                        <td id=\"T_26319_row9_col5\" class=\"data row9 col5\" >0.000000</td>\n",
       "                        <td id=\"T_26319_row9_col6\" class=\"data row9 col6\" >512.329200</td>\n",
       "                        <td id=\"T_26319_row9_col7\" class=\"data row9 col7\" >35.627188</td>\n",
       "            </tr>\n",
       "            <tr>\n",
       "                        <th id=\"T_26319_level0_row10\" class=\"row_heading level0 row10\" >Embarked</th>\n",
       "                        <td id=\"T_26319_row10_col0\" class=\"data row10 col0\" >object</td>\n",
       "                        <td id=\"T_26319_row10_col1\" class=\"data row10 col1\" >0</td>\n",
       "                        <td id=\"T_26319_row10_col2\" class=\"data row10 col2\" >0.000000</td>\n",
       "                        <td id=\"T_26319_row10_col3\" class=\"data row10 col3\" >3</td>\n",
       "                        <td id=\"T_26319_row10_col4\" class=\"data row10 col4\" >418</td>\n",
       "                        <td id=\"T_26319_row10_col5\" class=\"data row10 col5\" >nan</td>\n",
       "                        <td id=\"T_26319_row10_col6\" class=\"data row10 col6\" >nan</td>\n",
       "                        <td id=\"T_26319_row10_col7\" class=\"data row10 col7\" >nan</td>\n",
       "            </tr>\n",
       "    </tbody></table>"
      ],
      "text/plain": [
       "<pandas.io.formats.style.Styler at 0x24bfe063d30>"
      ]
     },
     "execution_count": 8,
     "metadata": {},
     "output_type": "execute_result"
    }
   ],
   "source": [
    "summary(df).style.background_gradient(cmap='twilight_shifted_r')"
   ]
  },
  {
   "cell_type": "markdown",
   "id": "3799bc70",
   "metadata": {},
   "source": [
    "#### We use fillna method to fill the null values in Fare and Age columns using mean fill"
   ]
  },
  {
   "cell_type": "code",
   "execution_count": 9,
   "id": "8e1075e5",
   "metadata": {},
   "outputs": [],
   "source": [
    "df['Age'].fillna(df['Age'].mean(), inplace=True)"
   ]
  },
  {
   "cell_type": "code",
   "execution_count": 10,
   "id": "55d57ce1",
   "metadata": {},
   "outputs": [],
   "source": [
    "df['Fare'].fillna(df['Fare'].mean(), inplace=True)"
   ]
  },
  {
   "cell_type": "code",
   "execution_count": 11,
   "id": "7c1cbab3",
   "metadata": {},
   "outputs": [
    {
     "data": {
      "text/html": [
       "<style  type=\"text/css\" >\n",
       "#T_b05a5_row0_col1,#T_b05a5_row0_col2,#T_b05a5_row0_col4,#T_b05a5_row1_col1,#T_b05a5_row1_col2,#T_b05a5_row1_col3,#T_b05a5_row1_col4,#T_b05a5_row1_col5,#T_b05a5_row1_col6,#T_b05a5_row1_col7,#T_b05a5_row2_col1,#T_b05a5_row2_col2,#T_b05a5_row2_col4,#T_b05a5_row2_col5,#T_b05a5_row2_col6,#T_b05a5_row2_col7,#T_b05a5_row3_col1,#T_b05a5_row3_col2,#T_b05a5_row3_col4,#T_b05a5_row4_col1,#T_b05a5_row4_col2,#T_b05a5_row4_col3,#T_b05a5_row4_col4,#T_b05a5_row5_col1,#T_b05a5_row5_col2,#T_b05a5_row5_col4,#T_b05a5_row5_col5,#T_b05a5_row6_col1,#T_b05a5_row6_col2,#T_b05a5_row6_col4,#T_b05a5_row6_col5,#T_b05a5_row6_col7,#T_b05a5_row7_col1,#T_b05a5_row7_col2,#T_b05a5_row7_col4,#T_b05a5_row7_col5,#T_b05a5_row7_col7,#T_b05a5_row8_col1,#T_b05a5_row8_col2,#T_b05a5_row8_col4,#T_b05a5_row9_col1,#T_b05a5_row9_col2,#T_b05a5_row9_col4,#T_b05a5_row9_col5,#T_b05a5_row10_col1,#T_b05a5_row10_col2,#T_b05a5_row10_col4{\n",
       "            background-color:  #2f1436;\n",
       "            color:  #f1f1f1;\n",
       "        }#T_b05a5_row0_col3,#T_b05a5_row0_col5,#T_b05a5_row0_col6,#T_b05a5_row0_col7,#T_b05a5_row2_col3,#T_b05a5_row3_col3,#T_b05a5_row10_col3{\n",
       "            background-color:  #301437;\n",
       "            color:  #f1f1f1;\n",
       "        }#T_b05a5_row3_col5,#T_b05a5_row3_col6,#T_b05a5_row3_col7,#T_b05a5_row4_col5,#T_b05a5_row4_col6,#T_b05a5_row4_col7,#T_b05a5_row8_col5,#T_b05a5_row8_col6,#T_b05a5_row8_col7,#T_b05a5_row10_col5,#T_b05a5_row10_col6,#T_b05a5_row10_col7{\n",
       "            background-color:  #000000;\n",
       "            color:  #f1f1f1;\n",
       "        }#T_b05a5_row5_col3{\n",
       "            background-color:  #983550;\n",
       "            color:  #f1f1f1;\n",
       "        }#T_b05a5_row5_col6{\n",
       "            background-color:  #481341;\n",
       "            color:  #f1f1f1;\n",
       "        }#T_b05a5_row5_col7{\n",
       "            background-color:  #381139;\n",
       "            color:  #f1f1f1;\n",
       "        }#T_b05a5_row6_col3{\n",
       "            background-color:  #331237;\n",
       "            color:  #f1f1f1;\n",
       "        }#T_b05a5_row6_col6,#T_b05a5_row7_col6{\n",
       "            background-color:  #311337;\n",
       "            color:  #f1f1f1;\n",
       "        }#T_b05a5_row7_col3{\n",
       "            background-color:  #341238;\n",
       "            color:  #f1f1f1;\n",
       "        }#T_b05a5_row8_col3{\n",
       "            background-color:  #5b2f94;\n",
       "            color:  #f1f1f1;\n",
       "        }#T_b05a5_row9_col3{\n",
       "            background-color:  #d1b4a0;\n",
       "            color:  #000000;\n",
       "        }#T_b05a5_row9_col6{\n",
       "            background-color:  #cfad96;\n",
       "            color:  #000000;\n",
       "        }#T_b05a5_row9_col7{\n",
       "            background-color:  #3a113a;\n",
       "            color:  #f1f1f1;\n",
       "        }</style><table id=\"T_b05a5_\" ><thead>    <tr>        <th class=\"blank level0\" ></th>        <th class=\"col_heading level0 col0\" >dtypes</th>        <th class=\"col_heading level0 col1\" >missing#</th>        <th class=\"col_heading level0 col2\" >missing%</th>        <th class=\"col_heading level0 col3\" >uniques</th>        <th class=\"col_heading level0 col4\" >count</th>        <th class=\"col_heading level0 col5\" >min</th>        <th class=\"col_heading level0 col6\" >max</th>        <th class=\"col_heading level0 col7\" >mean</th>    </tr></thead><tbody>\n",
       "                <tr>\n",
       "                        <th id=\"T_b05a5_level0_row0\" class=\"row_heading level0 row0\" >PassengerId</th>\n",
       "                        <td id=\"T_b05a5_row0_col0\" class=\"data row0 col0\" >int64</td>\n",
       "                        <td id=\"T_b05a5_row0_col1\" class=\"data row0 col1\" >0</td>\n",
       "                        <td id=\"T_b05a5_row0_col2\" class=\"data row0 col2\" >0.000000</td>\n",
       "                        <td id=\"T_b05a5_row0_col3\" class=\"data row0 col3\" >418</td>\n",
       "                        <td id=\"T_b05a5_row0_col4\" class=\"data row0 col4\" >418</td>\n",
       "                        <td id=\"T_b05a5_row0_col5\" class=\"data row0 col5\" >892.000000</td>\n",
       "                        <td id=\"T_b05a5_row0_col6\" class=\"data row0 col6\" >1309.000000</td>\n",
       "                        <td id=\"T_b05a5_row0_col7\" class=\"data row0 col7\" >1100.500000</td>\n",
       "            </tr>\n",
       "            <tr>\n",
       "                        <th id=\"T_b05a5_level0_row1\" class=\"row_heading level0 row1\" >Survived</th>\n",
       "                        <td id=\"T_b05a5_row1_col0\" class=\"data row1 col0\" >int64</td>\n",
       "                        <td id=\"T_b05a5_row1_col1\" class=\"data row1 col1\" >0</td>\n",
       "                        <td id=\"T_b05a5_row1_col2\" class=\"data row1 col2\" >0.000000</td>\n",
       "                        <td id=\"T_b05a5_row1_col3\" class=\"data row1 col3\" >2</td>\n",
       "                        <td id=\"T_b05a5_row1_col4\" class=\"data row1 col4\" >418</td>\n",
       "                        <td id=\"T_b05a5_row1_col5\" class=\"data row1 col5\" >0.000000</td>\n",
       "                        <td id=\"T_b05a5_row1_col6\" class=\"data row1 col6\" >1.000000</td>\n",
       "                        <td id=\"T_b05a5_row1_col7\" class=\"data row1 col7\" >0.363636</td>\n",
       "            </tr>\n",
       "            <tr>\n",
       "                        <th id=\"T_b05a5_level0_row2\" class=\"row_heading level0 row2\" >Pclass</th>\n",
       "                        <td id=\"T_b05a5_row2_col0\" class=\"data row2 col0\" >int64</td>\n",
       "                        <td id=\"T_b05a5_row2_col1\" class=\"data row2 col1\" >0</td>\n",
       "                        <td id=\"T_b05a5_row2_col2\" class=\"data row2 col2\" >0.000000</td>\n",
       "                        <td id=\"T_b05a5_row2_col3\" class=\"data row2 col3\" >3</td>\n",
       "                        <td id=\"T_b05a5_row2_col4\" class=\"data row2 col4\" >418</td>\n",
       "                        <td id=\"T_b05a5_row2_col5\" class=\"data row2 col5\" >1.000000</td>\n",
       "                        <td id=\"T_b05a5_row2_col6\" class=\"data row2 col6\" >3.000000</td>\n",
       "                        <td id=\"T_b05a5_row2_col7\" class=\"data row2 col7\" >2.265550</td>\n",
       "            </tr>\n",
       "            <tr>\n",
       "                        <th id=\"T_b05a5_level0_row3\" class=\"row_heading level0 row3\" >Name</th>\n",
       "                        <td id=\"T_b05a5_row3_col0\" class=\"data row3 col0\" >object</td>\n",
       "                        <td id=\"T_b05a5_row3_col1\" class=\"data row3 col1\" >0</td>\n",
       "                        <td id=\"T_b05a5_row3_col2\" class=\"data row3 col2\" >0.000000</td>\n",
       "                        <td id=\"T_b05a5_row3_col3\" class=\"data row3 col3\" >418</td>\n",
       "                        <td id=\"T_b05a5_row3_col4\" class=\"data row3 col4\" >418</td>\n",
       "                        <td id=\"T_b05a5_row3_col5\" class=\"data row3 col5\" >nan</td>\n",
       "                        <td id=\"T_b05a5_row3_col6\" class=\"data row3 col6\" >nan</td>\n",
       "                        <td id=\"T_b05a5_row3_col7\" class=\"data row3 col7\" >nan</td>\n",
       "            </tr>\n",
       "            <tr>\n",
       "                        <th id=\"T_b05a5_level0_row4\" class=\"row_heading level0 row4\" >Sex</th>\n",
       "                        <td id=\"T_b05a5_row4_col0\" class=\"data row4 col0\" >object</td>\n",
       "                        <td id=\"T_b05a5_row4_col1\" class=\"data row4 col1\" >0</td>\n",
       "                        <td id=\"T_b05a5_row4_col2\" class=\"data row4 col2\" >0.000000</td>\n",
       "                        <td id=\"T_b05a5_row4_col3\" class=\"data row4 col3\" >2</td>\n",
       "                        <td id=\"T_b05a5_row4_col4\" class=\"data row4 col4\" >418</td>\n",
       "                        <td id=\"T_b05a5_row4_col5\" class=\"data row4 col5\" >nan</td>\n",
       "                        <td id=\"T_b05a5_row4_col6\" class=\"data row4 col6\" >nan</td>\n",
       "                        <td id=\"T_b05a5_row4_col7\" class=\"data row4 col7\" >nan</td>\n",
       "            </tr>\n",
       "            <tr>\n",
       "                        <th id=\"T_b05a5_level0_row5\" class=\"row_heading level0 row5\" >Age</th>\n",
       "                        <td id=\"T_b05a5_row5_col0\" class=\"data row5 col0\" >float64</td>\n",
       "                        <td id=\"T_b05a5_row5_col1\" class=\"data row5 col1\" >0</td>\n",
       "                        <td id=\"T_b05a5_row5_col2\" class=\"data row5 col2\" >0.000000</td>\n",
       "                        <td id=\"T_b05a5_row5_col3\" class=\"data row5 col3\" >80</td>\n",
       "                        <td id=\"T_b05a5_row5_col4\" class=\"data row5 col4\" >418</td>\n",
       "                        <td id=\"T_b05a5_row5_col5\" class=\"data row5 col5\" >0.170000</td>\n",
       "                        <td id=\"T_b05a5_row5_col6\" class=\"data row5 col6\" >76.000000</td>\n",
       "                        <td id=\"T_b05a5_row5_col7\" class=\"data row5 col7\" >30.272590</td>\n",
       "            </tr>\n",
       "            <tr>\n",
       "                        <th id=\"T_b05a5_level0_row6\" class=\"row_heading level0 row6\" >SibSp</th>\n",
       "                        <td id=\"T_b05a5_row6_col0\" class=\"data row6 col0\" >int64</td>\n",
       "                        <td id=\"T_b05a5_row6_col1\" class=\"data row6 col1\" >0</td>\n",
       "                        <td id=\"T_b05a5_row6_col2\" class=\"data row6 col2\" >0.000000</td>\n",
       "                        <td id=\"T_b05a5_row6_col3\" class=\"data row6 col3\" >7</td>\n",
       "                        <td id=\"T_b05a5_row6_col4\" class=\"data row6 col4\" >418</td>\n",
       "                        <td id=\"T_b05a5_row6_col5\" class=\"data row6 col5\" >0.000000</td>\n",
       "                        <td id=\"T_b05a5_row6_col6\" class=\"data row6 col6\" >8.000000</td>\n",
       "                        <td id=\"T_b05a5_row6_col7\" class=\"data row6 col7\" >0.447368</td>\n",
       "            </tr>\n",
       "            <tr>\n",
       "                        <th id=\"T_b05a5_level0_row7\" class=\"row_heading level0 row7\" >Parch</th>\n",
       "                        <td id=\"T_b05a5_row7_col0\" class=\"data row7 col0\" >int64</td>\n",
       "                        <td id=\"T_b05a5_row7_col1\" class=\"data row7 col1\" >0</td>\n",
       "                        <td id=\"T_b05a5_row7_col2\" class=\"data row7 col2\" >0.000000</td>\n",
       "                        <td id=\"T_b05a5_row7_col3\" class=\"data row7 col3\" >8</td>\n",
       "                        <td id=\"T_b05a5_row7_col4\" class=\"data row7 col4\" >418</td>\n",
       "                        <td id=\"T_b05a5_row7_col5\" class=\"data row7 col5\" >0.000000</td>\n",
       "                        <td id=\"T_b05a5_row7_col6\" class=\"data row7 col6\" >9.000000</td>\n",
       "                        <td id=\"T_b05a5_row7_col7\" class=\"data row7 col7\" >0.392344</td>\n",
       "            </tr>\n",
       "            <tr>\n",
       "                        <th id=\"T_b05a5_level0_row8\" class=\"row_heading level0 row8\" >Ticket</th>\n",
       "                        <td id=\"T_b05a5_row8_col0\" class=\"data row8 col0\" >object</td>\n",
       "                        <td id=\"T_b05a5_row8_col1\" class=\"data row8 col1\" >0</td>\n",
       "                        <td id=\"T_b05a5_row8_col2\" class=\"data row8 col2\" >0.000000</td>\n",
       "                        <td id=\"T_b05a5_row8_col3\" class=\"data row8 col3\" >363</td>\n",
       "                        <td id=\"T_b05a5_row8_col4\" class=\"data row8 col4\" >418</td>\n",
       "                        <td id=\"T_b05a5_row8_col5\" class=\"data row8 col5\" >nan</td>\n",
       "                        <td id=\"T_b05a5_row8_col6\" class=\"data row8 col6\" >nan</td>\n",
       "                        <td id=\"T_b05a5_row8_col7\" class=\"data row8 col7\" >nan</td>\n",
       "            </tr>\n",
       "            <tr>\n",
       "                        <th id=\"T_b05a5_level0_row9\" class=\"row_heading level0 row9\" >Fare</th>\n",
       "                        <td id=\"T_b05a5_row9_col0\" class=\"data row9 col0\" >float64</td>\n",
       "                        <td id=\"T_b05a5_row9_col1\" class=\"data row9 col1\" >0</td>\n",
       "                        <td id=\"T_b05a5_row9_col2\" class=\"data row9 col2\" >0.000000</td>\n",
       "                        <td id=\"T_b05a5_row9_col3\" class=\"data row9 col3\" >170</td>\n",
       "                        <td id=\"T_b05a5_row9_col4\" class=\"data row9 col4\" >418</td>\n",
       "                        <td id=\"T_b05a5_row9_col5\" class=\"data row9 col5\" >0.000000</td>\n",
       "                        <td id=\"T_b05a5_row9_col6\" class=\"data row9 col6\" >512.329200</td>\n",
       "                        <td id=\"T_b05a5_row9_col7\" class=\"data row9 col7\" >35.627188</td>\n",
       "            </tr>\n",
       "            <tr>\n",
       "                        <th id=\"T_b05a5_level0_row10\" class=\"row_heading level0 row10\" >Embarked</th>\n",
       "                        <td id=\"T_b05a5_row10_col0\" class=\"data row10 col0\" >object</td>\n",
       "                        <td id=\"T_b05a5_row10_col1\" class=\"data row10 col1\" >0</td>\n",
       "                        <td id=\"T_b05a5_row10_col2\" class=\"data row10 col2\" >0.000000</td>\n",
       "                        <td id=\"T_b05a5_row10_col3\" class=\"data row10 col3\" >3</td>\n",
       "                        <td id=\"T_b05a5_row10_col4\" class=\"data row10 col4\" >418</td>\n",
       "                        <td id=\"T_b05a5_row10_col5\" class=\"data row10 col5\" >nan</td>\n",
       "                        <td id=\"T_b05a5_row10_col6\" class=\"data row10 col6\" >nan</td>\n",
       "                        <td id=\"T_b05a5_row10_col7\" class=\"data row10 col7\" >nan</td>\n",
       "            </tr>\n",
       "    </tbody></table>"
      ],
      "text/plain": [
       "<pandas.io.formats.style.Styler at 0x24bfe063670>"
      ]
     },
     "execution_count": 11,
     "metadata": {},
     "output_type": "execute_result"
    }
   ],
   "source": [
    "summary(df).style.background_gradient(cmap='twilight_shifted_r')"
   ]
  },
  {
   "cell_type": "code",
   "execution_count": 12,
   "id": "37b0fdcb",
   "metadata": {},
   "outputs": [
    {
     "data": {
      "text/plain": [
       "164                237393\n",
       "213                 24065\n",
       "73               PC 17562\n",
       "306                113781\n",
       "200                 36568\n",
       "194                 28220\n",
       "272                 13508\n",
       "24               PC 17608\n",
       "6                  330972\n",
       "415    SOTON/O.Q. 3101262\n",
       "Name: Ticket, dtype: object"
      ]
     },
     "execution_count": 12,
     "metadata": {},
     "output_type": "execute_result"
    }
   ],
   "source": [
    "df['Ticket'].sample(10)"
   ]
  },
  {
   "cell_type": "code",
   "execution_count": 13,
   "id": "0907c708",
   "metadata": {},
   "outputs": [],
   "source": [
    "df.drop(columns=['Ticket'], inplace=True)"
   ]
  },
  {
   "cell_type": "markdown",
   "id": "45f8fa9b",
   "metadata": {},
   "source": [
    "#### We also drop the ticket column"
   ]
  },
  {
   "cell_type": "code",
   "execution_count": 14,
   "id": "5d861437",
   "metadata": {},
   "outputs": [
    {
     "data": {
      "text/html": [
       "<style  type=\"text/css\" >\n",
       "#T_536a7_row0_col1,#T_536a7_row0_col2,#T_536a7_row0_col4,#T_536a7_row1_col1,#T_536a7_row1_col2,#T_536a7_row1_col3,#T_536a7_row1_col4,#T_536a7_row1_col5,#T_536a7_row1_col6,#T_536a7_row1_col7,#T_536a7_row2_col1,#T_536a7_row2_col2,#T_536a7_row2_col4,#T_536a7_row2_col5,#T_536a7_row2_col6,#T_536a7_row2_col7,#T_536a7_row3_col1,#T_536a7_row3_col2,#T_536a7_row3_col4,#T_536a7_row4_col1,#T_536a7_row4_col2,#T_536a7_row4_col3,#T_536a7_row4_col4,#T_536a7_row5_col1,#T_536a7_row5_col2,#T_536a7_row5_col4,#T_536a7_row5_col5,#T_536a7_row6_col1,#T_536a7_row6_col2,#T_536a7_row6_col4,#T_536a7_row6_col5,#T_536a7_row6_col7,#T_536a7_row7_col1,#T_536a7_row7_col2,#T_536a7_row7_col4,#T_536a7_row7_col5,#T_536a7_row7_col7,#T_536a7_row8_col1,#T_536a7_row8_col2,#T_536a7_row8_col4,#T_536a7_row8_col5,#T_536a7_row9_col1,#T_536a7_row9_col2,#T_536a7_row9_col4{\n",
       "            background-color:  #2f1436;\n",
       "            color:  #f1f1f1;\n",
       "        }#T_536a7_row0_col3,#T_536a7_row0_col5,#T_536a7_row0_col6,#T_536a7_row0_col7,#T_536a7_row2_col3,#T_536a7_row3_col3,#T_536a7_row9_col3{\n",
       "            background-color:  #301437;\n",
       "            color:  #f1f1f1;\n",
       "        }#T_536a7_row3_col5,#T_536a7_row3_col6,#T_536a7_row3_col7,#T_536a7_row4_col5,#T_536a7_row4_col6,#T_536a7_row4_col7,#T_536a7_row9_col5,#T_536a7_row9_col6,#T_536a7_row9_col7{\n",
       "            background-color:  #000000;\n",
       "            color:  #f1f1f1;\n",
       "        }#T_536a7_row5_col3{\n",
       "            background-color:  #983550;\n",
       "            color:  #f1f1f1;\n",
       "        }#T_536a7_row5_col6{\n",
       "            background-color:  #481341;\n",
       "            color:  #f1f1f1;\n",
       "        }#T_536a7_row5_col7{\n",
       "            background-color:  #381139;\n",
       "            color:  #f1f1f1;\n",
       "        }#T_536a7_row6_col3{\n",
       "            background-color:  #331237;\n",
       "            color:  #f1f1f1;\n",
       "        }#T_536a7_row6_col6,#T_536a7_row7_col6{\n",
       "            background-color:  #311337;\n",
       "            color:  #f1f1f1;\n",
       "        }#T_536a7_row7_col3{\n",
       "            background-color:  #341238;\n",
       "            color:  #f1f1f1;\n",
       "        }#T_536a7_row8_col3{\n",
       "            background-color:  #d1b4a0;\n",
       "            color:  #000000;\n",
       "        }#T_536a7_row8_col6{\n",
       "            background-color:  #cfad96;\n",
       "            color:  #000000;\n",
       "        }#T_536a7_row8_col7{\n",
       "            background-color:  #3a113a;\n",
       "            color:  #f1f1f1;\n",
       "        }</style><table id=\"T_536a7_\" ><thead>    <tr>        <th class=\"blank level0\" ></th>        <th class=\"col_heading level0 col0\" >dtypes</th>        <th class=\"col_heading level0 col1\" >missing#</th>        <th class=\"col_heading level0 col2\" >missing%</th>        <th class=\"col_heading level0 col3\" >uniques</th>        <th class=\"col_heading level0 col4\" >count</th>        <th class=\"col_heading level0 col5\" >min</th>        <th class=\"col_heading level0 col6\" >max</th>        <th class=\"col_heading level0 col7\" >mean</th>    </tr></thead><tbody>\n",
       "                <tr>\n",
       "                        <th id=\"T_536a7_level0_row0\" class=\"row_heading level0 row0\" >PassengerId</th>\n",
       "                        <td id=\"T_536a7_row0_col0\" class=\"data row0 col0\" >int64</td>\n",
       "                        <td id=\"T_536a7_row0_col1\" class=\"data row0 col1\" >0</td>\n",
       "                        <td id=\"T_536a7_row0_col2\" class=\"data row0 col2\" >0.000000</td>\n",
       "                        <td id=\"T_536a7_row0_col3\" class=\"data row0 col3\" >418</td>\n",
       "                        <td id=\"T_536a7_row0_col4\" class=\"data row0 col4\" >418</td>\n",
       "                        <td id=\"T_536a7_row0_col5\" class=\"data row0 col5\" >892.000000</td>\n",
       "                        <td id=\"T_536a7_row0_col6\" class=\"data row0 col6\" >1309.000000</td>\n",
       "                        <td id=\"T_536a7_row0_col7\" class=\"data row0 col7\" >1100.500000</td>\n",
       "            </tr>\n",
       "            <tr>\n",
       "                        <th id=\"T_536a7_level0_row1\" class=\"row_heading level0 row1\" >Survived</th>\n",
       "                        <td id=\"T_536a7_row1_col0\" class=\"data row1 col0\" >int64</td>\n",
       "                        <td id=\"T_536a7_row1_col1\" class=\"data row1 col1\" >0</td>\n",
       "                        <td id=\"T_536a7_row1_col2\" class=\"data row1 col2\" >0.000000</td>\n",
       "                        <td id=\"T_536a7_row1_col3\" class=\"data row1 col3\" >2</td>\n",
       "                        <td id=\"T_536a7_row1_col4\" class=\"data row1 col4\" >418</td>\n",
       "                        <td id=\"T_536a7_row1_col5\" class=\"data row1 col5\" >0.000000</td>\n",
       "                        <td id=\"T_536a7_row1_col6\" class=\"data row1 col6\" >1.000000</td>\n",
       "                        <td id=\"T_536a7_row1_col7\" class=\"data row1 col7\" >0.363636</td>\n",
       "            </tr>\n",
       "            <tr>\n",
       "                        <th id=\"T_536a7_level0_row2\" class=\"row_heading level0 row2\" >Pclass</th>\n",
       "                        <td id=\"T_536a7_row2_col0\" class=\"data row2 col0\" >int64</td>\n",
       "                        <td id=\"T_536a7_row2_col1\" class=\"data row2 col1\" >0</td>\n",
       "                        <td id=\"T_536a7_row2_col2\" class=\"data row2 col2\" >0.000000</td>\n",
       "                        <td id=\"T_536a7_row2_col3\" class=\"data row2 col3\" >3</td>\n",
       "                        <td id=\"T_536a7_row2_col4\" class=\"data row2 col4\" >418</td>\n",
       "                        <td id=\"T_536a7_row2_col5\" class=\"data row2 col5\" >1.000000</td>\n",
       "                        <td id=\"T_536a7_row2_col6\" class=\"data row2 col6\" >3.000000</td>\n",
       "                        <td id=\"T_536a7_row2_col7\" class=\"data row2 col7\" >2.265550</td>\n",
       "            </tr>\n",
       "            <tr>\n",
       "                        <th id=\"T_536a7_level0_row3\" class=\"row_heading level0 row3\" >Name</th>\n",
       "                        <td id=\"T_536a7_row3_col0\" class=\"data row3 col0\" >object</td>\n",
       "                        <td id=\"T_536a7_row3_col1\" class=\"data row3 col1\" >0</td>\n",
       "                        <td id=\"T_536a7_row3_col2\" class=\"data row3 col2\" >0.000000</td>\n",
       "                        <td id=\"T_536a7_row3_col3\" class=\"data row3 col3\" >418</td>\n",
       "                        <td id=\"T_536a7_row3_col4\" class=\"data row3 col4\" >418</td>\n",
       "                        <td id=\"T_536a7_row3_col5\" class=\"data row3 col5\" >nan</td>\n",
       "                        <td id=\"T_536a7_row3_col6\" class=\"data row3 col6\" >nan</td>\n",
       "                        <td id=\"T_536a7_row3_col7\" class=\"data row3 col7\" >nan</td>\n",
       "            </tr>\n",
       "            <tr>\n",
       "                        <th id=\"T_536a7_level0_row4\" class=\"row_heading level0 row4\" >Sex</th>\n",
       "                        <td id=\"T_536a7_row4_col0\" class=\"data row4 col0\" >object</td>\n",
       "                        <td id=\"T_536a7_row4_col1\" class=\"data row4 col1\" >0</td>\n",
       "                        <td id=\"T_536a7_row4_col2\" class=\"data row4 col2\" >0.000000</td>\n",
       "                        <td id=\"T_536a7_row4_col3\" class=\"data row4 col3\" >2</td>\n",
       "                        <td id=\"T_536a7_row4_col4\" class=\"data row4 col4\" >418</td>\n",
       "                        <td id=\"T_536a7_row4_col5\" class=\"data row4 col5\" >nan</td>\n",
       "                        <td id=\"T_536a7_row4_col6\" class=\"data row4 col6\" >nan</td>\n",
       "                        <td id=\"T_536a7_row4_col7\" class=\"data row4 col7\" >nan</td>\n",
       "            </tr>\n",
       "            <tr>\n",
       "                        <th id=\"T_536a7_level0_row5\" class=\"row_heading level0 row5\" >Age</th>\n",
       "                        <td id=\"T_536a7_row5_col0\" class=\"data row5 col0\" >float64</td>\n",
       "                        <td id=\"T_536a7_row5_col1\" class=\"data row5 col1\" >0</td>\n",
       "                        <td id=\"T_536a7_row5_col2\" class=\"data row5 col2\" >0.000000</td>\n",
       "                        <td id=\"T_536a7_row5_col3\" class=\"data row5 col3\" >80</td>\n",
       "                        <td id=\"T_536a7_row5_col4\" class=\"data row5 col4\" >418</td>\n",
       "                        <td id=\"T_536a7_row5_col5\" class=\"data row5 col5\" >0.170000</td>\n",
       "                        <td id=\"T_536a7_row5_col6\" class=\"data row5 col6\" >76.000000</td>\n",
       "                        <td id=\"T_536a7_row5_col7\" class=\"data row5 col7\" >30.272590</td>\n",
       "            </tr>\n",
       "            <tr>\n",
       "                        <th id=\"T_536a7_level0_row6\" class=\"row_heading level0 row6\" >SibSp</th>\n",
       "                        <td id=\"T_536a7_row6_col0\" class=\"data row6 col0\" >int64</td>\n",
       "                        <td id=\"T_536a7_row6_col1\" class=\"data row6 col1\" >0</td>\n",
       "                        <td id=\"T_536a7_row6_col2\" class=\"data row6 col2\" >0.000000</td>\n",
       "                        <td id=\"T_536a7_row6_col3\" class=\"data row6 col3\" >7</td>\n",
       "                        <td id=\"T_536a7_row6_col4\" class=\"data row6 col4\" >418</td>\n",
       "                        <td id=\"T_536a7_row6_col5\" class=\"data row6 col5\" >0.000000</td>\n",
       "                        <td id=\"T_536a7_row6_col6\" class=\"data row6 col6\" >8.000000</td>\n",
       "                        <td id=\"T_536a7_row6_col7\" class=\"data row6 col7\" >0.447368</td>\n",
       "            </tr>\n",
       "            <tr>\n",
       "                        <th id=\"T_536a7_level0_row7\" class=\"row_heading level0 row7\" >Parch</th>\n",
       "                        <td id=\"T_536a7_row7_col0\" class=\"data row7 col0\" >int64</td>\n",
       "                        <td id=\"T_536a7_row7_col1\" class=\"data row7 col1\" >0</td>\n",
       "                        <td id=\"T_536a7_row7_col2\" class=\"data row7 col2\" >0.000000</td>\n",
       "                        <td id=\"T_536a7_row7_col3\" class=\"data row7 col3\" >8</td>\n",
       "                        <td id=\"T_536a7_row7_col4\" class=\"data row7 col4\" >418</td>\n",
       "                        <td id=\"T_536a7_row7_col5\" class=\"data row7 col5\" >0.000000</td>\n",
       "                        <td id=\"T_536a7_row7_col6\" class=\"data row7 col6\" >9.000000</td>\n",
       "                        <td id=\"T_536a7_row7_col7\" class=\"data row7 col7\" >0.392344</td>\n",
       "            </tr>\n",
       "            <tr>\n",
       "                        <th id=\"T_536a7_level0_row8\" class=\"row_heading level0 row8\" >Fare</th>\n",
       "                        <td id=\"T_536a7_row8_col0\" class=\"data row8 col0\" >float64</td>\n",
       "                        <td id=\"T_536a7_row8_col1\" class=\"data row8 col1\" >0</td>\n",
       "                        <td id=\"T_536a7_row8_col2\" class=\"data row8 col2\" >0.000000</td>\n",
       "                        <td id=\"T_536a7_row8_col3\" class=\"data row8 col3\" >170</td>\n",
       "                        <td id=\"T_536a7_row8_col4\" class=\"data row8 col4\" >418</td>\n",
       "                        <td id=\"T_536a7_row8_col5\" class=\"data row8 col5\" >0.000000</td>\n",
       "                        <td id=\"T_536a7_row8_col6\" class=\"data row8 col6\" >512.329200</td>\n",
       "                        <td id=\"T_536a7_row8_col7\" class=\"data row8 col7\" >35.627188</td>\n",
       "            </tr>\n",
       "            <tr>\n",
       "                        <th id=\"T_536a7_level0_row9\" class=\"row_heading level0 row9\" >Embarked</th>\n",
       "                        <td id=\"T_536a7_row9_col0\" class=\"data row9 col0\" >object</td>\n",
       "                        <td id=\"T_536a7_row9_col1\" class=\"data row9 col1\" >0</td>\n",
       "                        <td id=\"T_536a7_row9_col2\" class=\"data row9 col2\" >0.000000</td>\n",
       "                        <td id=\"T_536a7_row9_col3\" class=\"data row9 col3\" >3</td>\n",
       "                        <td id=\"T_536a7_row9_col4\" class=\"data row9 col4\" >418</td>\n",
       "                        <td id=\"T_536a7_row9_col5\" class=\"data row9 col5\" >nan</td>\n",
       "                        <td id=\"T_536a7_row9_col6\" class=\"data row9 col6\" >nan</td>\n",
       "                        <td id=\"T_536a7_row9_col7\" class=\"data row9 col7\" >nan</td>\n",
       "            </tr>\n",
       "    </tbody></table>"
      ],
      "text/plain": [
       "<pandas.io.formats.style.Styler at 0x24bfe06fa60>"
      ]
     },
     "execution_count": 14,
     "metadata": {},
     "output_type": "execute_result"
    }
   ],
   "source": [
    "summary(df).style.background_gradient(cmap='twilight_shifted_r')"
   ]
  },
  {
   "cell_type": "markdown",
   "id": "224cc654",
   "metadata": {},
   "source": [
    "# DATA VISUVALIZATION"
   ]
  },
  {
   "cell_type": "code",
   "execution_count": 15,
   "id": "f3768bbc",
   "metadata": {},
   "outputs": [
    {
     "data": {
      "image/png": "[encoded data removed]",
      "text/plain": [
       "<Figure size 432x288 with 1 Axes>"
      ]
     },
     "metadata": {
      "needs_background": "light"
     },
     "output_type": "display_data"
    }
   ],
   "source": [
    "sns.countplot(x='Sex',data=df)\n",
    "plt.title('Sex Distribution ')\n",
    "plt.show()"
   ]
  },
  {
   "cell_type": "code",
   "execution_count": 16,
   "id": "03f9ea53",
   "metadata": {},
   "outputs": [
    {
     "data": {
      "image/png": "[encoded data removed]",
      "text/plain": [
       "<Figure size 432x288 with 1 Axes>"
      ]
     },
     "metadata": {
      "needs_background": "light"
     },
     "output_type": "display_data"
    }
   ],
   "source": [
    "sns.histplot(df['Age'])\n",
    "plt.title('Age Distribution')\n",
    "plt.show()"
   ]
  },
  {
   "cell_type": "code",
   "execution_count": 17,
   "id": "55f564ac",
   "metadata": {},
   "outputs": [
    {
     "data": {
      "text/plain": [
       "<AxesSubplot:xlabel='Embarked', ylabel='count'>"
      ]
     },
     "execution_count": 17,
     "metadata": {},
     "output_type": "execute_result"
    },
    {
     "data": {
      "image/png": "[encoded data removed]",
      "text/plain": [
       "<Figure size 432x288 with 1 Axes>"
      ]
     },
     "metadata": {
      "needs_background": "light"
     },
     "output_type": "display_data"
    }
   ],
   "source": [
    "sns.countplot(x=df['Embarked'])"
   ]
  },
  {
   "cell_type": "code",
   "execution_count": 18,
   "id": "8c751f9f",
   "metadata": {},
   "outputs": [
    {
     "data": {
      "image/png": "[encoded data removed]",
      "text/plain": [
       "<Figure size 432x288 with 1 Axes>"
      ]
     },
     "metadata": {
      "needs_background": "light"
     },
     "output_type": "display_data"
    }
   ],
   "source": [
    "sns.countplot(x='Pclass',data=df,hue='Survived')\n",
    "legend_labels = {0: 'Not Survived', 1: 'Survived'}\n",
    "plt.legend(title='Survived', labels=[f\"{key} = {value}\" for key, value in legend_labels.items()])\n",
    "plt.title('diffrent Pclass by Survival Status')\n",
    "plt.show()"
   ]
  },
  {
   "cell_type": "code",
   "execution_count": 19,
   "id": "9a64417f",
   "metadata": {},
   "outputs": [
    {
     "data": {
      "text/plain": [
       "<matplotlib.legend.Legend at 0x24b89b64af0>"
      ]
     },
     "execution_count": 19,
     "metadata": {},
     "output_type": "execute_result"
    },
    {
     "data": {
      "image/png": "[encoded data removed]",
      "text/plain": [
       "<Figure size 720x504 with 1 Axes>"
      ]
     },
     "metadata": {
      "needs_background": "light"
     },
     "output_type": "display_data"
    }
   ],
   "source": [
    "import matplotlib.pyplot as plt\n",
    "fig = plt.figure(figsize =(10, 7))\n",
    "plt.hist(x = [df[df['Survived']==1]['Age'], df[df['Survived']==0]['Age']],stacked=True, color = ['g','r'],label = ['Survived','Not survived'])\n",
    "plt.title('Age Histogram with Survival')\n",
    "plt.xlabel('Age')\n",
    "plt.ylabel('No of passengers')\n",
    "plt.legend()"
   ]
  },
  {
   "cell_type": "code",
   "execution_count": 20,
   "id": "32f9e25c",
   "metadata": {},
   "outputs": [
    {
     "data": {
      "image/png": "[encoded data removed]",
      "text/plain": [
       "<Figure size 432x288 with 1 Axes>"
      ]
     },
     "metadata": {
      "needs_background": "light"
     },
     "output_type": "display_data"
    }
   ],
   "source": [
    "# Create a distribution plot for passengers who survived\n",
    "sns.histplot(data=df[df['Survived'] == 1], x='Age', kde=True, color='blue', label='Survived')\n",
    "\n",
    "# Create a distribution plot for passengers who did not survive\n",
    "sns.histplot(data=df[df['Survived'] == 0], x='Age', kde=True, color='red', label='Not Survived')\n",
    "\n",
    "# Set plot labels and title\n",
    "plt.xlabel('Age')\n",
    "plt.ylabel('Density')\n",
    "plt.title('Age Distribution by Survival Status')\n",
    "\n",
    "# Add a legend\n",
    "plt.legend(title='Survival Status')\n",
    "\n",
    "plt.show()"
   ]
  },
  {
   "cell_type": "code",
   "execution_count": 21,
   "id": "7eea1940",
   "metadata": {},
   "outputs": [
    {
     "data": {
      "text/plain": [
       "<matplotlib.legend.Legend at 0x24b8bff9220>"
      ]
     },
     "execution_count": 21,
     "metadata": {},
     "output_type": "execute_result"
    },
    {
     "data": {
      "image/png": "[encoded data removed]",
      "text/plain": [
       "<Figure size 720x504 with 1 Axes>"
      ]
     },
     "metadata": {
      "needs_background": "light"
     },
     "output_type": "display_data"
    }
   ],
   "source": [
    "fig = plt.figure(figsize =(10, 7))\n",
    "plt.hist(x = [df[df['Survived']==1]['Fare'], df[df['Survived']==0]['Fare']], stacked=True, color = ['g','r'],label = ['Survived','Not survived'])\n",
    "plt.title('Fare Histogram with Survival')\n",
    "plt.xlabel('Fare')\n",
    "plt.ylabel('No of passengers')\n",
    "plt.legend()"
   ]
  },
  {
   "cell_type": "code",
   "execution_count": 22,
   "id": "912f31c9",
   "metadata": {},
   "outputs": [
    {
     "data": {
      "text/plain": [
       "<AxesSubplot:xlabel='Embarked', ylabel='count'>"
      ]
     },
     "execution_count": 22,
     "metadata": {},
     "output_type": "execute_result"
    },
    {
     "data": {
      "image/png": "[encoded data removed]",
      "text/plain": [
       "<Figure size 432x288 with 1 Axes>"
      ]
     },
     "metadata": {
      "needs_background": "light"
     },
     "output_type": "display_data"
    }
   ],
   "source": [
    "sns.countplot(x=df['Embarked'])"
   ]
  },
  {
   "cell_type": "code",
   "execution_count": 23,
   "id": "9427e6b9",
   "metadata": {},
   "outputs": [
    {
     "name": "stderr",
     "output_type": "stream",
     "text": [
      "C:\\Users\\DELL\\anaconda3\\lib\\site-packages\\seaborn\\distributions.py:2557: FutureWarning: `distplot` is a deprecated function and will be removed in a future version. Please adapt your code to use either `displot` (a figure-level function with similar flexibility) or `histplot` (an axes-level function for histograms).\n",
      "  warnings.warn(msg, FutureWarning)\n",
      "C:\\Users\\DELL\\anaconda3\\lib\\site-packages\\seaborn\\distributions.py:2557: FutureWarning: `distplot` is a deprecated function and will be removed in a future version. Please adapt your code to use either `displot` (a figure-level function with similar flexibility) or `histplot` (an axes-level function for histograms).\n",
      "  warnings.warn(msg, FutureWarning)\n"
     ]
    },
    {
     "data": {
      "image/png": "[encoded data removed]",
      "text/plain": [
       "<Figure size 1008x504 with 4 Axes>"
      ]
     },
     "metadata": {
      "needs_background": "light"
     },
     "output_type": "display_data"
    }
   ],
   "source": [
    "plt.figure(figsize=(14,7))\n",
    "plt.subplot(2,2,1)\n",
    "sns.boxplot(x='Sex', y = 'Age',data= df)\n",
    "\n",
    "plt.subplot(2,2,2)\n",
    "sns.distplot(df['Fare'],color='g')\n",
    "\n",
    "plt.subplot(2,2,3)\n",
    "sns.distplot(df['Age'],color='g')\n",
    "\n",
    "plt.subplot(2,2,4)\n",
    "sns.countplot(x='Sex', data=df)\n",
    "\n",
    "plt.tight_layout()\n",
    "plt.show()"
   ]
  },
  {
   "cell_type": "code",
   "execution_count": 24,
   "id": "88525765",
   "metadata": {},
   "outputs": [
    {
     "data": {
      "image/png": "[encoded data removed]",
      "text/plain": [
       "<Figure size 864x648 with 2 Axes>"
      ]
     },
     "metadata": {
      "needs_background": "light"
     },
     "output_type": "display_data"
    }
   ],
   "source": [
    "# Heatmap\n",
    "corrmat = df.corr()\n",
    "fig = plt.figure(figsize = (12, 9))\n",
    "\n",
    "sns.heatmap(corrmat, vmax = .8, square = True, annot = True)\n",
    "plt.show()"
   ]
  },
  {
   "cell_type": "code",
   "execution_count": 25,
   "id": "bb69458c",
   "metadata": {},
   "outputs": [
    {
     "data": {
      "text/plain": [
       "<AxesSubplot:xlabel='SibSp', ylabel='count'>"
      ]
     },
     "execution_count": 25,
     "metadata": {},
     "output_type": "execute_result"
    },
    {
     "data": {
      "image/png": "[encoded data removed]",
      "text/plain": [
       "<Figure size 432x288 with 1 Axes>"
      ]
     },
     "metadata": {
      "needs_background": "light"
     },
     "output_type": "display_data"
    }
   ],
   "source": [
    "sns.countplot(x='SibSp',data=df)"
   ]
  },
  {
   "cell_type": "code",
   "execution_count": 26,
   "id": "9cb3e796",
   "metadata": {},
   "outputs": [
    {
     "data": {
      "text/plain": [
       "<AxesSubplot:xlabel='Pclass', ylabel='Age'>"
      ]
     },
     "execution_count": 26,
     "metadata": {},
     "output_type": "execute_result"
    },
    {
     "data": {
      "image/png": "[encoded data removed]",
      "text/plain": [
       "<Figure size 864x504 with 1 Axes>"
      ]
     },
     "metadata": {
      "needs_background": "light"
     },
     "output_type": "display_data"
    }
   ],
   "source": [
    "plt.figure(figsize=(12, 7))\n",
    "sns.boxplot(x='Pclass',y='Age',data=df,palette='winter')"
   ]
  },
  {
   "cell_type": "markdown",
   "id": "09fe1004",
   "metadata": {},
   "source": [
    "# CHANGE DATA TYPES OF COLUMN"
   ]
  },
  {
   "cell_type": "code",
   "execution_count": 27,
   "id": "a16521d5",
   "metadata": {},
   "outputs": [],
   "source": [
    "df['Age'] = df['Age'].astype(int)\n",
    "df['Fare'] = df['Fare'].astype(int)"
   ]
  },
  {
   "cell_type": "code",
   "execution_count": 28,
   "id": "dc85a411",
   "metadata": {},
   "outputs": [],
   "source": [
    "# asign values to object using dictionary\n",
    "df['Embarked'] = df['Embarked'].map({'Q': 0,'S':1,'C':2}).astype(int)\n",
    "df['Sex'] = df['Sex'].map( {'female': 1,'male':0}).astype(int)"
   ]
  },
  {
   "cell_type": "code",
   "execution_count": 29,
   "id": "ffca8bde",
   "metadata": {},
   "outputs": [],
   "source": [
    "#drop columns for using dataset\n",
    "dfn = df.drop(['PassengerId','Name'],axis = 1, inplace= True)"
   ]
  },
  {
   "cell_type": "markdown",
   "id": "81467046",
   "metadata": {},
   "source": [
    "# MODEL BUILDING"
   ]
  },
  {
   "cell_type": "code",
   "execution_count": 30,
   "id": "19c372e3",
   "metadata": {},
   "outputs": [],
   "source": [
    "from sklearn.tree import DecisionTreeClassifier\n",
    "from sklearn.model_selection import train_test_split"
   ]
  },
  {
   "cell_type": "code",
   "execution_count": 31,
   "id": "0f1aeecf",
   "metadata": {},
   "outputs": [
    {
     "data": {
      "text/html": [
       "<div>\n",
       "<style scoped>\n",
       "    .dataframe tbody tr th:only-of-type {\n",
       "        vertical-align: middle;\n",
       "    }\n",
       "\n",
       "    .dataframe tbody tr th {\n",
       "        vertical-align: top;\n",
       "    }\n",
       "\n",
       "    .dataframe thead th {\n",
       "        text-align: right;\n",
       "    }\n",
       "</style>\n",
       "<table border=\"1\" class=\"dataframe\">\n",
       "  <thead>\n",
       "    <tr style=\"text-align: right;\">\n",
       "      <th></th>\n",
       "      <th>Survived</th>\n",
       "      <th>Pclass</th>\n",
       "      <th>Sex</th>\n",
       "      <th>Age</th>\n",
       "      <th>SibSp</th>\n",
       "      <th>Parch</th>\n",
       "      <th>Fare</th>\n",
       "      <th>Embarked</th>\n",
       "    </tr>\n",
       "  </thead>\n",
       "  <tbody>\n",
       "    <tr>\n",
       "      <th>0</th>\n",
       "      <td>0</td>\n",
       "      <td>3</td>\n",
       "      <td>0</td>\n",
       "      <td>34</td>\n",
       "      <td>0</td>\n",
       "      <td>0</td>\n",
       "      <td>7</td>\n",
       "      <td>0</td>\n",
       "    </tr>\n",
       "    <tr>\n",
       "      <th>1</th>\n",
       "      <td>1</td>\n",
       "      <td>3</td>\n",
       "      <td>1</td>\n",
       "      <td>47</td>\n",
       "      <td>1</td>\n",
       "      <td>0</td>\n",
       "      <td>7</td>\n",
       "      <td>1</td>\n",
       "    </tr>\n",
       "    <tr>\n",
       "      <th>2</th>\n",
       "      <td>0</td>\n",
       "      <td>2</td>\n",
       "      <td>0</td>\n",
       "      <td>62</td>\n",
       "      <td>0</td>\n",
       "      <td>0</td>\n",
       "      <td>9</td>\n",
       "      <td>0</td>\n",
       "    </tr>\n",
       "    <tr>\n",
       "      <th>3</th>\n",
       "      <td>0</td>\n",
       "      <td>3</td>\n",
       "      <td>0</td>\n",
       "      <td>27</td>\n",
       "      <td>0</td>\n",
       "      <td>0</td>\n",
       "      <td>8</td>\n",
       "      <td>1</td>\n",
       "    </tr>\n",
       "    <tr>\n",
       "      <th>4</th>\n",
       "      <td>1</td>\n",
       "      <td>3</td>\n",
       "      <td>1</td>\n",
       "      <td>22</td>\n",
       "      <td>1</td>\n",
       "      <td>1</td>\n",
       "      <td>12</td>\n",
       "      <td>1</td>\n",
       "    </tr>\n",
       "  </tbody>\n",
       "</table>\n",
       "</div>"
      ],
      "text/plain": [
       "   Survived  Pclass  Sex  Age  SibSp  Parch  Fare  Embarked\n",
       "0         0       3    0   34      0      0     7         0\n",
       "1         1       3    1   47      1      0     7         1\n",
       "2         0       2    0   62      0      0     9         0\n",
       "3         0       3    0   27      0      0     8         1\n",
       "4         1       3    1   22      1      1    12         1"
      ]
     },
     "execution_count": 31,
     "metadata": {},
     "output_type": "execute_result"
    }
   ],
   "source": [
    "df.head()"
   ]
  },
  {
   "cell_type": "markdown",
   "id": "aee25f82",
   "metadata": {},
   "source": [
    "## - Decision Tree Accuracy"
   ]
  },
  {
   "cell_type": "code",
   "execution_count": 32,
   "id": "3f19b922",
   "metadata": {},
   "outputs": [
    {
     "data": {
      "text/plain": [
       "DecisionTreeClassifier()"
      ]
     },
     "execution_count": 32,
     "metadata": {},
     "output_type": "execute_result"
    }
   ],
   "source": [
    "x= df.drop(['Survived'],axis=1)\n",
    "y= df['Survived']\n",
    "x_train,x_test,y_train,y_test = train_test_split(x,y,test_size=0.2,random_state=40)\n",
    "clf = DecisionTreeClassifier()\n",
    "clf.fit(x_train,y_train)"
   ]
  },
  {
   "cell_type": "code",
   "execution_count": 33,
   "id": "d9bbd2d8",
   "metadata": {},
   "outputs": [
    {
     "name": "stdout",
     "output_type": "stream",
     "text": [
      "Accuracy: 1.0\n"
     ]
    }
   ],
   "source": [
    "from sklearn.metrics import accuracy_score\n",
    "#prediction on test data\n",
    "y_pred = clf.predict(x_test)\n",
    "#calculation\n",
    "acc = accuracy_score(y_test,y_pred)\n",
    "print('Accuracy:', acc)"
   ]
  },
  {
   "cell_type": "markdown",
   "id": "34bef2b6",
   "metadata": {},
   "source": [
    "## - Logistic Regression Accuracy"
   ]
  },
  {
   "cell_type": "code",
   "execution_count": 34,
   "id": "92b6260d",
   "metadata": {},
   "outputs": [
    {
     "name": "stdout",
     "output_type": "stream",
     "text": [
      "Logistic regression accuracy: 100.00%\n"
     ]
    }
   ],
   "source": [
    "LR = LogisticRegression(solver='liblinear', max_iter=200)\n",
    "LR.fit(x_train, y_train)\n",
    "y_pred = LR.predict(x_test)\n",
    "LRAcc = accuracy_score(y_pred,y_test)\n",
    "print('Logistic regression accuracy: {:.2f}%'.format(LRAcc*100))"
   ]
  },
  {
   "cell_type": "markdown",
   "id": "2e9adec5",
   "metadata": {},
   "source": [
    "## - Each Model Accuracy"
   ]
  },
  {
   "cell_type": "code",
   "execution_count": 38,
   "id": "b2ec5bc6",
   "metadata": {},
   "outputs": [],
   "source": [
    "models = {\n",
    "    'Logistic Regression': LogisticRegression(),\n",
    "    'Decision Tree': DecisionTreeClassifier(),\n",
    "    'Random Forest': RandomForestClassifier(),\n",
    "    'Support Vector Machine': SVC(),\n",
    "    'Gradient Boosting': GradientBoostingClassifier(),\n",
    "    'K-Nearest Neighbors': KNeighborsClassifier(),\n",
    "    'Neural Network': MLPClassifier(max_iter=1000)  \n",
    "}"
   ]
  },
  {
   "cell_type": "code",
   "execution_count": 39,
   "id": "cc567d3c",
   "metadata": {},
   "outputs": [
    {
     "name": "stderr",
     "output_type": "stream",
     "text": [
      "C:\\Users\\DELL\\anaconda3\\lib\\site-packages\\sklearn\\linear_model\\_logistic.py:763: ConvergenceWarning: lbfgs failed to converge (status=1):\n",
      "STOP: TOTAL NO. of ITERATIONS REACHED LIMIT.\n",
      "\n",
      "Increase the number of iterations (max_iter) or scale the data as shown in:\n",
      "    https://scikit-learn.org/stable/modules/preprocessing.html\n",
      "Please also refer to the documentation for alternative solver options:\n",
      "    https://scikit-learn.org/stable/modules/linear_model.html#logistic-regression\n",
      "  n_iter_i = _check_optimize_result(\n"
     ]
    },
    {
     "name": "stdout",
     "output_type": "stream",
     "text": [
      "Logistic Regression - Accuracy: 1.00\n",
      "Classification Report:\n",
      "              precision    recall  f1-score   support\n",
      "\n",
      "           0       1.00      1.00      1.00        53\n",
      "           1       1.00      1.00      1.00        31\n",
      "\n",
      "    accuracy                           1.00        84\n",
      "   macro avg       1.00      1.00      1.00        84\n",
      "weighted avg       1.00      1.00      1.00        84\n",
      "\n",
      "\n",
      "Decision Tree - Accuracy: 1.00\n",
      "Classification Report:\n",
      "              precision    recall  f1-score   support\n",
      "\n",
      "           0       1.00      1.00      1.00        53\n",
      "           1       1.00      1.00      1.00        31\n",
      "\n",
      "    accuracy                           1.00        84\n",
      "   macro avg       1.00      1.00      1.00        84\n",
      "weighted avg       1.00      1.00      1.00        84\n",
      "\n",
      "\n",
      "Random Forest - Accuracy: 1.00\n",
      "Classification Report:\n",
      "              precision    recall  f1-score   support\n",
      "\n",
      "           0       1.00      1.00      1.00        53\n",
      "           1       1.00      1.00      1.00        31\n",
      "\n",
      "    accuracy                           1.00        84\n",
      "   macro avg       1.00      1.00      1.00        84\n",
      "weighted avg       1.00      1.00      1.00        84\n",
      "\n",
      "\n",
      "Support Vector Machine - Accuracy: 0.62\n",
      "Classification Report:\n",
      "              precision    recall  f1-score   support\n",
      "\n",
      "           0       0.63      0.96      0.76        53\n",
      "           1       0.33      0.03      0.06        31\n",
      "\n",
      "    accuracy                           0.62        84\n",
      "   macro avg       0.48      0.50      0.41        84\n",
      "weighted avg       0.52      0.62      0.50        84\n",
      "\n",
      "\n",
      "Gradient Boosting - Accuracy: 1.00\n",
      "Classification Report:\n",
      "              precision    recall  f1-score   support\n",
      "\n",
      "           0       1.00      1.00      1.00        53\n",
      "           1       1.00      1.00      1.00        31\n",
      "\n",
      "    accuracy                           1.00        84\n",
      "   macro avg       1.00      1.00      1.00        84\n",
      "weighted avg       1.00      1.00      1.00        84\n",
      "\n",
      "\n",
      "K-Nearest Neighbors - Accuracy: 0.68\n",
      "Classification Report:\n",
      "              precision    recall  f1-score   support\n",
      "\n",
      "           0       0.71      0.83      0.77        53\n",
      "           1       0.59      0.42      0.49        31\n",
      "\n",
      "    accuracy                           0.68        84\n",
      "   macro avg       0.65      0.62      0.63        84\n",
      "weighted avg       0.67      0.68      0.66        84\n",
      "\n",
      "\n",
      "Neural Network - Accuracy: 1.00\n",
      "Classification Report:\n",
      "              precision    recall  f1-score   support\n",
      "\n",
      "           0       1.00      1.00      1.00        53\n",
      "           1       1.00      1.00      1.00        31\n",
      "\n",
      "    accuracy                           1.00        84\n",
      "   macro avg       1.00      1.00      1.00        84\n",
      "weighted avg       1.00      1.00      1.00        84\n",
      "\n",
      "\n"
     ]
    }
   ],
   "source": [
    "# Train and evaluate each model\n",
    "for model_name, model in models.items():\n",
    "    model.fit(x_train, y_train)\n",
    "    Y_pred = model.predict(x_test)\n",
    "    accuracy = accuracy_score(y_test, Y_pred)\n",
    "    report = classification_report(y_test, Y_pred)  # Compute classification report\n",
    "    print(f\"{model_name} - Accuracy: {accuracy:.2f}\")\n",
    "    print(f\"Classification Report:\\n{report}\\n\")"
   ]
  },
  {
   "cell_type": "code",
   "execution_count": null,
   "id": "2032a94b",
   "metadata": {},
   "outputs": [],
   "source": []
  }
 ],
 "metadata": {
  "kernelspec": {
   "display_name": "Python 3",
   "language": "python",
   "name": "python3"
  },
  "language_info": {
   "codemirror_mode": {
    "name": "ipython",
    "version": 3
   },
   "file_extension": ".py",
   "mimetype": "text/x-python",
   "name": "python",
   "nbconvert_exporter": "python",
   "pygments_lexer": "ipython3",
   "version": "3.8.8"
  }
 },
 "nbformat": 4,
 "nbformat_minor": 5
}
